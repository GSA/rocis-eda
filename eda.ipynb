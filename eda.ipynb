{
 "cells": [
  {
   "cell_type": "code",
   "execution_count": 7,
   "metadata": {},
   "outputs": [],
   "source": [
    "import pandas as pd\n",
    "import numpy as np\n",
    "import xml.etree.ElementTree as ET\n",
    "from xml.etree.ElementTree import XMLParser\n",
    "import xmltodict\n",
    "import requests\n",
    "import io\n",
    "import matplotlib as plt\n",
    "from collections import MutableMapping \n",
    "\n",
    "from utils.parse import get_404\n",
    "from utils.parse import convert_flatten\n",
    "from utils.parse import get_url_list\n"
   ]
  },
  {
   "cell_type": "code",
   "execution_count": 6,
   "metadata": {},
   "outputs": [],
   "source": []
  },
  {
   "cell_type": "code",
   "execution_count": null,
   "metadata": {},
   "outputs": [],
   "source": [
    "df  = pd.read_csv('CurrentInventoryReport.csv')"
   ]
  },
  {
   "cell_type": "code",
   "execution_count": null,
   "metadata": {},
   "outputs": [],
   "source": []
  },
  {
   "cell_type": "code",
   "execution_count": 8,
   "metadata": {},
   "outputs": [],
   "source": [
    "#parser = XMLParser(encoding = 'utf-16')\n",
    "tree = ET.parse(\"data.xml\")\n",
    "root = tree.getroot()"
   ]
  },
  {
   "cell_type": "code",
   "execution_count": 9,
   "metadata": {},
   "outputs": [],
   "source": [
    "#xmltodict converts the xml structure to a json related format.  Problems arise with key naming convention, which will be adressed durther on\n",
    "#TODO: flatten dict\n",
    "with io.open('data.xml', 'r', encoding='utf-8-sig') as f:\n",
    "    contents = f.read()\n",
    "    xml_dict = xmltodict.parse(contents)\n",
    "    f.close()"
   ]
  },
  {
   "cell_type": "code",
   "execution_count": 4,
   "metadata": {},
   "outputs": [],
   "source": [
    "df2 = pd.DataFrame(xml_dict['InformationCollectionRequestList']['InformationCollectionRequest'][0])\n",
    "df2"
   ]
  },
  {
   "cell_type": "code",
   "execution_count": 5,
   "metadata": {},
   "outputs": [
    {
     "output_type": "execute_result",
     "data": {
      "text/plain": "                      OMBControlNumber ICRReferenceNumber AgencyCode  \\\nExpirationDate               0581-0004    201704-0581-001       0581   \nPerson                       0581-0004    201704-0581-001       0581   \nAuthorizingStatute           0581-0004    201704-0581-001       0581   \nBurdenResponse               0581-0004    201704-0581-001       0581   \nBurdenHour                   0581-0004    201704-0581-001       0581   \nBurdenCost                   0581-0004    201704-0581-001       0581   \nInformationCollection        0581-0004    201704-0581-001       0581   \nConcludedDate                0581-0004    201704-0581-001       0581   \n\n                                Title  \\\nExpirationDate         Tobacco Report   \nPerson                 Tobacco Report   \nAuthorizingStatute     Tobacco Report   \nBurdenResponse         Tobacco Report   \nBurdenHour             Tobacco Report   \nBurdenCost             Tobacco Report   \nInformationCollection  Tobacco Report   \nConcludedDate          Tobacco Report   \n\n                                                                Abstract  \\\nExpirationDate         The Tobacco Statistic Act of 1929 (7 U.S.C. 50...   \nPerson                 The Tobacco Statistic Act of 1929 (7 U.S.C. 50...   \nAuthorizingStatute     The Tobacco Statistic Act of 1929 (7 U.S.C. 50...   \nBurdenResponse         The Tobacco Statistic Act of 1929 (7 U.S.C. 50...   \nBurdenHour             The Tobacco Statistic Act of 1929 (7 U.S.C. 50...   \nBurdenCost             The Tobacco Statistic Act of 1929 (7 U.S.C. 50...   \nInformationCollection  The Tobacco Statistic Act of 1929 (7 U.S.C. 50...   \nConcludedDate          The Tobacco Statistic Act of 1929 (7 U.S.C. 50...   \n\n                                                             ICRTypeCode  \\\nExpirationDate         Extension without change of a currently approv...   \nPerson                 Extension without change of a currently approv...   \nAuthorizingStatute     Extension without change of a currently approv...   \nBurdenResponse         Extension without change of a currently approv...   \nBurdenHour             Extension without change of a currently approv...   \nBurdenCost             Extension without change of a currently approv...   \nInformationCollection  Extension without change of a currently approv...   \nConcludedDate          Extension without change of a currently approv...   \n\n                             Expiration ICRStatus  \\\nExpirationDate         2020-06-30-04:00    Active   \nPerson                              NaN    Active   \nAuthorizingStatute                  NaN    Active   \nBurdenResponse                      NaN    Active   \nBurdenHour                          NaN    Active   \nBurdenCost                          NaN    Active   \nInformationCollection               NaN    Active   \nConcludedDate                       NaN    Active   \n\n                                                           AgencyContact  \\\nExpirationDate                                                       NaN   \nPerson                 {'FirstName': 'Shethir', 'LastName': 'Riva', '...   \nAuthorizingStatute                                                   NaN   \nBurdenResponse                                                       NaN   \nBurdenHour                                                           NaN   \nBurdenCost                                                           NaN   \nInformationCollection                                                NaN   \nConcludedDate                                                        NaN   \n\n                           PIIFlag PrivacyActStatementFlag  \\\nExpirationDate         Uncollected             Uncollected   \nPerson                 Uncollected             Uncollected   \nAuthorizingStatute     Uncollected             Uncollected   \nBurdenResponse         Uncollected             Uncollected   \nBurdenHour             Uncollected             Uncollected   \nBurdenCost             Uncollected             Uncollected   \nInformationCollection  Uncollected             Uncollected   \nConcludedDate          Uncollected             Uncollected   \n\n                      AnnualFederalCostAmount StimulusIndicator  \\\nExpirationDate                          27900                No   \nPerson                                  27900                No   \nAuthorizingStatute                      27900                No   \nBurdenResponse                          27900                No   \nBurdenHour                              27900                No   \nBurdenCost                              27900                No   \nInformationCollection                   27900                No   \nConcludedDate                           27900                No   \n\n                      HealthcareIndicator DoddFrankActIndicator  \\\nExpirationDate                         No                    No   \nPerson                                 No                    No   \nAuthorizingStatute                     No                    No   \nBurdenResponse                         No                    No   \nBurdenHour                             No                    No   \nBurdenCost                             No                    No   \nInformationCollection                  No                    No   \nConcludedDate                          No                    No   \n\n                                                     AuthorizingStatutes  \\\nExpirationDate                                                       NaN   \nPerson                                                               NaN   \nAuthorizingStatute     {'USCode': {'USCTitle': '7', 'USCSection': '50...   \nBurdenResponse                                                       NaN   \nBurdenHour                                                           NaN   \nBurdenCost                                                           NaN   \nInformationCollection                                                NaN   \nConcludedDate                                                        NaN   \n\n                                                                  Burden  \\\nExpirationDate                                                       NaN   \nPerson                                                               NaN   \nAuthorizingStatute                                                   NaN   \nBurdenResponse         {'TotalQuantity': '120', 'PreviousTotalQuantit...   \nBurdenHour             {'TotalQuantity': '104', 'PreviousTotalQuantit...   \nBurdenCost              {'TotalAmount': '0', 'PreviousTotalAmount': '0'}   \nInformationCollection                                                NaN   \nConcludedDate                                                        NaN   \n\n                                                  InformationCollections  \\\nExpirationDate                                                       NaN   \nPerson                                                               NaN   \nAuthorizingStatute                                                   NaN   \nBurdenResponse                                                       NaN   \nBurdenHour                                                           NaN   \nBurdenCost                                                           NaN   \nInformationCollection  [{'Title': 'Tobacco Report', 'CFRCitations': {...   \nConcludedDate                                                        NaN   \n\n                                                          OIRAConclusion  \nExpirationDate                                                       NaN  \nPerson                                                               NaN  \nAuthorizingStatute                                                   NaN  \nBurdenResponse                                                       NaN  \nBurdenHour                                                           NaN  \nBurdenCost                                                           NaN  \nInformationCollection                                                NaN  \nConcludedDate          {'Date': '2017-06-16-04:00', 'Time': '03:40:21...  ",
      "text/html": "<div>\n<style scoped>\n    .dataframe tbody tr th:only-of-type {\n        vertical-align: middle;\n    }\n\n    .dataframe tbody tr th {\n        vertical-align: top;\n    }\n\n    .dataframe thead th {\n        text-align: right;\n    }\n</style>\n<table border=\"1\" class=\"dataframe\">\n  <thead>\n    <tr style=\"text-align: right;\">\n      <th></th>\n      <th>OMBControlNumber</th>\n      <th>ICRReferenceNumber</th>\n      <th>AgencyCode</th>\n      <th>Title</th>\n      <th>Abstract</th>\n      <th>ICRTypeCode</th>\n      <th>Expiration</th>\n      <th>ICRStatus</th>\n      <th>AgencyContact</th>\n      <th>PIIFlag</th>\n      <th>PrivacyActStatementFlag</th>\n      <th>AnnualFederalCostAmount</th>\n      <th>StimulusIndicator</th>\n      <th>HealthcareIndicator</th>\n      <th>DoddFrankActIndicator</th>\n      <th>AuthorizingStatutes</th>\n      <th>Burden</th>\n      <th>InformationCollections</th>\n      <th>OIRAConclusion</th>\n    </tr>\n  </thead>\n  <tbody>\n    <tr>\n      <th>ExpirationDate</th>\n      <td>0581-0004</td>\n      <td>201704-0581-001</td>\n      <td>0581</td>\n      <td>Tobacco Report</td>\n      <td>The Tobacco Statistic Act of 1929 (7 U.S.C. 50...</td>\n      <td>Extension without change of a currently approv...</td>\n      <td>2020-06-30-04:00</td>\n      <td>Active</td>\n      <td>NaN</td>\n      <td>Uncollected</td>\n      <td>Uncollected</td>\n      <td>27900</td>\n      <td>No</td>\n      <td>No</td>\n      <td>No</td>\n      <td>NaN</td>\n      <td>NaN</td>\n      <td>NaN</td>\n      <td>NaN</td>\n    </tr>\n    <tr>\n      <th>Person</th>\n      <td>0581-0004</td>\n      <td>201704-0581-001</td>\n      <td>0581</td>\n      <td>Tobacco Report</td>\n      <td>The Tobacco Statistic Act of 1929 (7 U.S.C. 50...</td>\n      <td>Extension without change of a currently approv...</td>\n      <td>NaN</td>\n      <td>Active</td>\n      <td>{'FirstName': 'Shethir', 'LastName': 'Riva', '...</td>\n      <td>Uncollected</td>\n      <td>Uncollected</td>\n      <td>27900</td>\n      <td>No</td>\n      <td>No</td>\n      <td>No</td>\n      <td>NaN</td>\n      <td>NaN</td>\n      <td>NaN</td>\n      <td>NaN</td>\n    </tr>\n    <tr>\n      <th>AuthorizingStatute</th>\n      <td>0581-0004</td>\n      <td>201704-0581-001</td>\n      <td>0581</td>\n      <td>Tobacco Report</td>\n      <td>The Tobacco Statistic Act of 1929 (7 U.S.C. 50...</td>\n      <td>Extension without change of a currently approv...</td>\n      <td>NaN</td>\n      <td>Active</td>\n      <td>NaN</td>\n      <td>Uncollected</td>\n      <td>Uncollected</td>\n      <td>27900</td>\n      <td>No</td>\n      <td>No</td>\n      <td>No</td>\n      <td>{'USCode': {'USCTitle': '7', 'USCSection': '50...</td>\n      <td>NaN</td>\n      <td>NaN</td>\n      <td>NaN</td>\n    </tr>\n    <tr>\n      <th>BurdenResponse</th>\n      <td>0581-0004</td>\n      <td>201704-0581-001</td>\n      <td>0581</td>\n      <td>Tobacco Report</td>\n      <td>The Tobacco Statistic Act of 1929 (7 U.S.C. 50...</td>\n      <td>Extension without change of a currently approv...</td>\n      <td>NaN</td>\n      <td>Active</td>\n      <td>NaN</td>\n      <td>Uncollected</td>\n      <td>Uncollected</td>\n      <td>27900</td>\n      <td>No</td>\n      <td>No</td>\n      <td>No</td>\n      <td>NaN</td>\n      <td>{'TotalQuantity': '120', 'PreviousTotalQuantit...</td>\n      <td>NaN</td>\n      <td>NaN</td>\n    </tr>\n    <tr>\n      <th>BurdenHour</th>\n      <td>0581-0004</td>\n      <td>201704-0581-001</td>\n      <td>0581</td>\n      <td>Tobacco Report</td>\n      <td>The Tobacco Statistic Act of 1929 (7 U.S.C. 50...</td>\n      <td>Extension without change of a currently approv...</td>\n      <td>NaN</td>\n      <td>Active</td>\n      <td>NaN</td>\n      <td>Uncollected</td>\n      <td>Uncollected</td>\n      <td>27900</td>\n      <td>No</td>\n      <td>No</td>\n      <td>No</td>\n      <td>NaN</td>\n      <td>{'TotalQuantity': '104', 'PreviousTotalQuantit...</td>\n      <td>NaN</td>\n      <td>NaN</td>\n    </tr>\n    <tr>\n      <th>BurdenCost</th>\n      <td>0581-0004</td>\n      <td>201704-0581-001</td>\n      <td>0581</td>\n      <td>Tobacco Report</td>\n      <td>The Tobacco Statistic Act of 1929 (7 U.S.C. 50...</td>\n      <td>Extension without change of a currently approv...</td>\n      <td>NaN</td>\n      <td>Active</td>\n      <td>NaN</td>\n      <td>Uncollected</td>\n      <td>Uncollected</td>\n      <td>27900</td>\n      <td>No</td>\n      <td>No</td>\n      <td>No</td>\n      <td>NaN</td>\n      <td>{'TotalAmount': '0', 'PreviousTotalAmount': '0'}</td>\n      <td>NaN</td>\n      <td>NaN</td>\n    </tr>\n    <tr>\n      <th>InformationCollection</th>\n      <td>0581-0004</td>\n      <td>201704-0581-001</td>\n      <td>0581</td>\n      <td>Tobacco Report</td>\n      <td>The Tobacco Statistic Act of 1929 (7 U.S.C. 50...</td>\n      <td>Extension without change of a currently approv...</td>\n      <td>NaN</td>\n      <td>Active</td>\n      <td>NaN</td>\n      <td>Uncollected</td>\n      <td>Uncollected</td>\n      <td>27900</td>\n      <td>No</td>\n      <td>No</td>\n      <td>No</td>\n      <td>NaN</td>\n      <td>NaN</td>\n      <td>[{'Title': 'Tobacco Report', 'CFRCitations': {...</td>\n      <td>NaN</td>\n    </tr>\n    <tr>\n      <th>ConcludedDate</th>\n      <td>0581-0004</td>\n      <td>201704-0581-001</td>\n      <td>0581</td>\n      <td>Tobacco Report</td>\n      <td>The Tobacco Statistic Act of 1929 (7 U.S.C. 50...</td>\n      <td>Extension without change of a currently approv...</td>\n      <td>NaN</td>\n      <td>Active</td>\n      <td>NaN</td>\n      <td>Uncollected</td>\n      <td>Uncollected</td>\n      <td>27900</td>\n      <td>No</td>\n      <td>No</td>\n      <td>No</td>\n      <td>NaN</td>\n      <td>NaN</td>\n      <td>NaN</td>\n      <td>{'Date': '2017-06-16-04:00', 'Time': '03:40:21...</td>\n    </tr>\n  </tbody>\n</table>\n</div>"
     },
     "metadata": {},
     "execution_count": 5
    }
   ],
   "source": []
  },
  {
   "cell_type": "code",
   "execution_count": null,
   "metadata": {},
   "outputs": [],
   "source": []
  },
  {
   "cell_type": "code",
   "execution_count": 11,
   "metadata": {},
   "outputs": [],
   "source": [
    "# this code fetches the server status for each url.  Be careful though because this will take about 5 hours to run.  \n",
    "#TODO: multiprocess with dask\n",
    "url_list = get_url_list(root)\n",
    "df_url = pd.DataFrame(url_list,columns=['url'])\n",
    "df_url.drop_duplicates(inplace=True)\n",
    "df['404'] = df['url'].apply(lambda x: get_404(x))"
   ]
  },
  {
   "cell_type": "code",
   "execution_count": 6,
   "metadata": {},
   "outputs": [
    {
     "output_type": "execute_result",
     "data": {
      "text/plain": "OrderedDict([('CFRCitation',\n              OrderedDict([('CFRCitation',\n                            OrderedDict([('CFRTitle', '7'),\n                                         ('CFRPart', '30.60')]))]))])"
     },
     "metadata": {},
     "execution_count": 6
    }
   ],
   "source": [
    "rows = []\n",
    "# Example of dictionary item with nested keys of the same value\n",
    "#TODO: explore feature branch of xmltodict for potential fix\n",
    "xml_dict['InformationCollectionRequestList']['InformationCollectionRequest'][0]['InformationCollections']['InformationCollection'][0]['CFRCitations']\n"
   ]
  },
  {
   "cell_type": "code",
   "execution_count": null,
   "metadata": {},
   "outputs": [],
   "source": [
    "xml_dict['InformationCollectionRequestList']['InformationCollectionRequest'][21]['InformationCollections']['InformationCollection'][1]"
   ]
  },
  {
   "cell_type": "code",
   "execution_count": 32,
   "metadata": {},
   "outputs": [
    {
     "output_type": "execute_result",
     "data": {
      "text/plain": "{'Title': 'Background/Acceptance Statement (Producer and Handler Member/Alternate)',\n 'CFRCitations_CFRCitation': [OrderedDict([('CFRCitation',\n                OrderedDict([('CFRTitle', '7'),\n                             ('CFRPart', '930.58(c), 930.83, 930.70(b)')]))]),\n  OrderedDict([('CFRCitation',\n                OrderedDict([('CFRTitle', '7'),\n                             ('CFRPart', '930.50(a), 930.55(b)')]))]),\n  OrderedDict([('CFRCitation',\n                OrderedDict([('CFRTitle', '7'),\n                             ('CFRPart', '930.26, 930.23, 930.70')]))]),\n  OrderedDict([('CFRCitation',\n                OrderedDict([('CFRTitle', '7'),\n                             ('CFRPart', '930.59(b), 930.55(c)')]))])],\n 'StandardFormIndicator': 'No',\n 'ObligationCode': 'Mandatory',\n 'FEABusinessReferenceModule_LineOfBusiness_@Code': '105',\n 'FEABusinessReferenceModule_LineOfBusiness_#text': 'Economic Development',\n 'FEABusinessReferenceModule_Subfunction_@Code': '011',\n 'FEABusinessReferenceModule_Subfunction_#text': 'Business and Industry Development',\n 'Instruments_Instrument': [OrderedDict([('FormNumber', 'CIAB 3A'),\n               ('FormName', 'Report of Export Sales Activity'),\n               ('AvailableElectronically', 'No'),\n               ('ElectronicCapability', 'Printable Only'),\n               ('InstrumentDocument',\n                OrderedDict([('documentType', 'Form')]))]),\n  OrderedDict([('FormNumber', 'SC-9'),\n               ('FormName',\n                'Background/Acceptance Statement for Industry Members & Alternates'),\n               ('AvailableElectronically', 'No'),\n               ('ElectronicCapability', 'Paper Only'),\n               ('InstrumentDocument',\n                OrderedDict([('documentType', 'Form')]))]),\n  OrderedDict([('FormNumber', 'SC-8'),\n               ('FormName',\n                'Background/Acceptance Statement for Public Members & Alternates'),\n               ('AvailableElectronically', 'No'),\n               ('ElectronicCapability', 'Paper Only'),\n               ('InstrumentDocument',\n                OrderedDict([('documentType', 'Form')]))]),\n  OrderedDict([('FormNumber', 'CIAB Form 7'),\n               ('FormName',\n                'Handler Diversion Application for New Market or Product'),\n               ('AvailableElectronically', 'No'),\n               ('ElectronicCapability', 'Paper Only'),\n               ('InstrumentDocument',\n                OrderedDict([('documentType', 'Form and instruction')]))]),\n  OrderedDict([('FormNumber', 'CIAB 5 B'),\n               ('FormName', 'Inventory Location Report (Rev. 2016)'),\n               ('AvailableElectronically', 'No'),\n               ('ElectronicCapability', 'Printable Only'),\n               ('InstrumentDocument',\n                OrderedDict([('documentType', 'Form')]))]),\n  OrderedDict([('FormNumber', 'CIAB Form 3'),\n               ('FormName', 'Sales/Inventory Report'),\n               ('AvailableElectronically', 'No'),\n               ('ElectronicCapability', 'Printable Only'),\n               ('InstrumentDocument',\n                OrderedDict([('documentType', 'Form')]))]),\n  OrderedDict([('FormNumber', 'None'),\n               ('FormName', 'Producer List for Referendum'),\n               ('AvailableElectronically', 'No'),\n               ('ElectronicCapability', 'Printable Only'),\n               ('InstrumentDocument',\n                OrderedDict([('documentType', 'Form')]))]),\n  OrderedDict([('FormNumber', 'None'),\n               ('FormName',\n                'Memorandum of Agreement between Handlers Regarding Responsibilities for Tart Cherry Production'),\n               ('AvailableElectronically', 'No'),\n               ('ElectronicCapability', 'Printable Only'),\n               ('InstrumentDocument',\n                OrderedDict([('documentType', 'Form')]))]),\n  OrderedDict([('FormNumber', 'CIAB Form #1'),\n               ('FormName', 'Weekly Raw Product Report'),\n               ('AvailableElectronically', 'No'),\n               ('ElectronicCapability', 'Printable Only'),\n               ('InstrumentDocument',\n                OrderedDict([('documentType', 'Form')]))]),\n  OrderedDict([('FormNumber', 'CIAB Form #5A'),\n               ('FormName', 'Inventory Reserve Summary'),\n               ('AvailableElectronically', 'No'),\n               ('ElectronicCapability', 'Printable Only'),\n               ('InstrumentDocument',\n                OrderedDict([('documentType', 'Form')]))]),\n  OrderedDict([('FormNumber', 'CIAB Form #2'),\n               ('FormName', 'Cherries Acquired from Producers'),\n               ('AvailableElectronically', 'No'),\n               ('ElectronicCapability', 'Printable Only'),\n               ('InstrumentDocument',\n                OrderedDict([('documentType', 'Form')]))]),\n  OrderedDict([('FormNumber', 'CIAB Form 4'),\n               ('FormName', 'Handler Reserve Plan & Final Pack Rept.'),\n               ('AvailableElectronically', 'No'),\n               ('ElectronicCapability', 'Printable Only'),\n               ('InstrumentDocument',\n                OrderedDict([('documentType', 'Form and instruction')]))])],\n 'AffectedPublicCode_PublicCode': 'Private Sector',\n 'NumberResponses_AnnualQuantity': '2122',\n 'BurdenHour_TotalQuantity': '498',\n 'BurdenHour_BurdenHourPerResponse_ReportingFrequencies_ReportingFrequency': 'Annually',\n 'BurdenCost_TotalAmount': '0'}"
     },
     "metadata": {},
     "execution_count": 32
    }
   ],
   "source": [
    "#example of a problem converting nested dictionary with same keys, the xmltodict library stores them as a list and make flattening a problem\n",
    "#TODO: recursivley rename keys based on parents\n",
    "convert_flatten(xml_dict['InformationCollectionRequestList']['InformationCollectionRequest'][21]['InformationCollections']['InformationCollection'][1])"
   ]
  },
  {
   "cell_type": "code",
   "execution_count": 16,
   "metadata": {},
   "outputs": [
    {
     "output_type": "execute_result",
     "data": {
      "text/plain": "2"
     },
     "metadata": {},
     "execution_count": 16
    }
   ],
   "source": [
    "len(xml_dict['InformationCollectionRequestList']['InformationCollectionRequest'][0]['InformationCollections']['InformationCollection'])"
   ]
  },
  {
   "cell_type": "code",
   "execution_count": 17,
   "metadata": {},
   "outputs": [
    {
     "output_type": "execute_result",
     "data": {
      "text/plain": "collections.OrderedDict"
     },
     "metadata": {},
     "execution_count": 17
    }
   ],
   "source": [
    "type(xml_dict['InformationCollectionRequestList']['InformationCollectionRequest'][1]['InformationCollections']['InformationCollection'])"
   ]
  },
  {
   "cell_type": "code",
   "execution_count": 13,
   "metadata": {
    "tags": [
     "outputPrepend",
     "outputPrepend",
     "outputPrepend",
     "outputPrepend",
     "outputPrepend",
     "outputPrepend"
    ]
   },
   "outputs": [
    {
     "output_type": "stream",
     "name": "stdout",
     "text": "5458\n5459\n5460\n5461\n5462\n5463\n5464\n5465\n5466\n5467\n5468\n5469\n5470\n5471\n5472\n5473\n5474\n5475\n5476\n5477\n5478\n5479\n5480\n5481\n5482\n5483\n5484\n5485\n5486\n5487\n5488\n5489\n5490\n5491\n5492\n5493\n5494\n5495\n5496\n5497\n5498\n5499\n5500\n5501\n5502\n5503\n5504\n'InformationCollections'\n5505\n5506\n5507\n5508\n5509\n5510\n5511\n5512\n5513\n5514\n5515\n5516\n5517\n5518\n5519\n5520\n5521\n5522\n'InformationCollections'\n5523\n5524\n5525\n5526\n5527\n5528\n5529\n5530\n5531\n5532\n5533\n5534\n5535\n5536\n5537\n5538\n5539\n5540\n5541\n5542\n5543\n5544\n5545\n5546\n5547\n5548\n5549\n5550\n5551\n5552\n5553\n5554\n5555\n5556\n5557\n5558\n5559\n5560\n5561\n5562\n5563\n5564\n5565\n5566\n5567\n5568\n'InformationCollections'\n5569\n5570\n5571\n5572\n5573\n5574\n5575\n5576\n5577\n5578\n5579\n5580\n5581\n5582\n5583\n5584\n5585\n5586\n5587\n5588\n5589\n5590\n5591\n5592\n5593\n5594\n5595\n5596\n5597\n5598\n5599\n5600\n5601\n5602\n5603\n5604\n5605\n5606\n5607\n5608\n5609\n5610\n5611\n5612\n5613\n5614\n5615\n5616\n5617\n5618\n5619\n5620\n5621\n5622\n5623\n5624\n5625\n5626\n5627\n5628\n5629\n5630\n5631\n5632\n5633\n5634\n5635\n5636\n5637\n5638\n5639\n5640\n5641\n5642\n5643\n5644\n5645\n5646\n5647\n5648\n5649\n5650\n5651\n5652\n5653\n5654\n5655\n5656\n5657\n5658\n5659\n5660\n5661\n5662\n5663\n5664\n5665\n5666\n5667\n5668\n5669\n5670\n5671\n5672\n5673\n5674\n5675\n5676\n5677\n5678\n5679\n5680\n5681\n5682\n5683\n5684\n5685\n5686\n5687\n5688\n5689\n5690\n5691\n5692\n5693\n5694\n5695\n5696\n5697\n5698\n5699\n5700\n5701\n5702\n5703\n5704\n5705\n5706\n5707\n5708\n5709\n5710\n5711\n5712\n5713\n5714\n5715\n5716\n5717\n5718\n5719\n5720\n5721\n5722\n5723\n5724\n5725\n5726\n5727\n5728\n5729\n5730\n5731\n5732\n5733\n5734\n5735\n5736\n5737\n5738\n5739\n5740\n5741\n5742\n5743\n5744\n5745\n5746\n5747\n5748\n5749\n5750\n5751\n5752\n5753\n5754\n5755\n5756\n5757\n5758\n5759\n5760\n5761\n5762\n5763\n5764\n5765\n5766\n5767\n5768\n5769\n5770\n5771\n5772\n5773\n5774\n5775\n5776\n5777\n5778\n5779\n5780\n5781\n5782\n5783\n5784\n5785\n5786\n5787\n5788\n5789\n5790\n5791\n5792\n5793\n5794\n5795\n5796\n5797\n5798\n5799\n5800\n5801\n5802\n5803\n5804\n5805\n5806\n5807\n5808\n5809\n5810\n5811\n5812\n5813\n5814\n5815\n5816\n5817\n5818\n5819\n5820\n5821\n5822\n5823\n5824\n5825\n5826\n5827\n5828\n5829\n5830\n5831\n5832\n5833\n5834\n5835\n5836\n5837\n5838\n5839\n5840\n5841\n5842\n5843\n5844\n5845\n5846\n5847\n5848\n5849\n5850\n5851\n5852\n5853\n5854\n5855\n5856\n5857\n5858\n5859\n5860\n5861\n5862\n5863\n5864\n5865\n5866\n5867\n5868\n5869\n5870\n5871\n5872\n5873\n5874\n5875\n5876\n5877\n5878\n5879\n5880\n5881\n5882\n5883\n5884\n5885\n5886\n5887\n5888\n5889\n5890\n5891\n5892\n5893\n5894\n5895\n5896\n5897\n5898\n5899\n5900\n5901\n5902\n5903\n5904\n5905\n5906\n5907\n5908\n5909\n5910\n5911\n5912\n5913\n5914\n5915\n5916\n5917\n5918\n5919\n5920\n5921\n5922\n5923\n5924\n5925\n5926\n5927\n5928\n5929\n5930\n5931\n5932\n5933\n5934\n5935\n5936\n5937\n5938\n5939\n5940\n5941\n5942\n5943\n5944\n5945\n5946\n5947\n5948\n5949\n5950\n5951\n5952\n5953\n5954\n5955\n5956\n5957\n5958\n5959\n5960\n5961\n5962\n5963\n5964\n5965\n5966\n5967\n5968\n5969\n5970\n5971\n5972\n5973\n5974\n5975\n5976\n5977\n5978\n5979\n5980\n5981\n5982\n5983\n5984\n5985\n5986\n5987\n5988\n5989\n5990\n5991\n5992\n5993\n5994\n5995\n5996\n5997\n5998\n5999\n6000\n6001\n6002\n6003\n6004\n6005\n6006\n6007\n6008\n6009\n6010\n6011\n6012\n6013\n6014\n6015\n6016\n6017\n6018\n6019\n6020\n6021\n6022\n6023\n6024\n6025\n6026\n6027\n6028\n6029\n6030\n6031\n6032\n6033\n6034\n6035\n6036\n6037\n6038\n6039\n6040\n6041\n6042\n6043\n6044\n6045\n6046\n6047\n6048\n6049\n6050\n6051\n6052\n6053\n6054\n6055\n6056\n6057\n6058\n6059\n6060\n6061\n6062\n6063\n6064\n6065\n6066\n6067\n6068\n6069\n6070\n6071\n6072\n6073\n6074\n6075\n6076\n6077\n6078\n6079\n6080\n6081\n6082\n6083\n6084\n6085\n6086\n6087\n6088\n6089\n6090\n6091\n6092\n6093\n6094\n6095\n6096\n6097\n6098\n6099\n6100\n6101\n6102\n6103\n6104\n6105\n6106\n6107\n6108\n6109\n6110\n6111\n6112\n6113\n6114\n6115\n6116\n6117\n6118\n6119\n6120\n6121\n6122\n6123\n6124\n6125\n6126\n6127\n6128\n6129\n6130\n6131\n6132\n6133\n6134\n6135\n6136\n6137\n6138\n6139\n6140\n6141\n6142\n6143\n6144\n6145\n6146\n6147\n6148\n6149\n6150\n6151\n6152\n6153\n6154\n6155\n6156\n6157\n6158\n6159\n6160\n6161\n6162\n6163\n6164\n6165\n6166\n6167\n6168\n6169\n6170\n6171\n6172\n6173\n6174\n6175\n6176\n6177\n6178\n6179\n6180\n6181\n6182\n6183\n6184\n6185\n6186\n6187\n6188\n6189\n6190\n6191\n6192\n6193\n6194\n6195\n6196\n6197\n6198\n6199\n6200\n6201\n6202\n6203\n6204\n6205\n6206\n6207\n6208\n6209\n6210\n6211\n6212\n6213\n6214\n6215\n6216\n6217\n6218\n6219\n6220\n6221\n6222\n6223\n6224\n6225\n6226\n6227\n6228\n6229\n6230\n6231\n6232\n6233\n6234\n6235\n6236\n6237\n6238\n6239\n6240\n6241\n6242\n6243\n6244\n6245\n6246\n6247\n6248\n6249\n6250\n6251\n6252\n6253\n6254\n6255\n6256\n6257\n6258\n6259\n6260\n6261\n6262\n6263\n6264\n6265\n6266\n6267\n6268\n6269\n6270\n6271\n6272\n6273\n6274\n6275\n6276\n6277\n6278\n6279\n6280\n6281\n6282\n6283\n6284\n6285\n6286\n6287\n6288\n6289\n6290\n6291\n6292\n6293\n6294\n6295\n6296\n6297\n6298\n6299\n6300\n6301\n6302\n6303\n6304\n6305\n6306\n6307\n6308\n6309\n6310\n6311\n6312\n6313\n6314\n6315\n6316\n6317\n6318\n6319\n6320\n6321\n6322\n6323\n6324\n6325\n6326\n6327\n6328\n6329\n6330\n6331\n6332\n6333\n6334\n6335\n6336\n6337\n6338\n6339\n6340\n6341\n6342\n6343\n6344\n6345\n6346\n6347\n6348\n6349\n6350\n6351\n6352\n6353\n6354\n6355\n6356\n6357\n6358\n6359\n6360\n6361\n6362\n6363\n6364\n6365\n6366\n6367\n6368\n6369\n6370\n6371\n6372\n6373\n6374\n6375\n6376\n6377\n6378\n6379\n6380\n6381\n6382\n6383\n6384\n6385\n6386\n6387\n6388\n6389\n6390\n6391\n6392\n6393\n6394\n6395\n6396\n6397\n6398\n6399\n6400\n6401\n6402\n6403\n6404\n6405\n6406\n6407\n6408\n6409\n6410\n6411\n6412\n6413\n6414\n6415\n6416\n6417\n6418\n6419\n6420\n6421\n6422\n6423\n6424\n6425\n6426\n6427\n6428\n6429\n6430\n6431\n6432\n6433\n6434\n6435\n6436\n6437\n6438\n6439\n6440\n6441\n6442\n6443\n6444\n6445\n6446\n6447\n6448\n6449\n6450\n6451\n6452\n6453\n6454\n6455\n6456\n6457\n6458\n6459\n6460\n6461\n6462\n6463\n6464\n6465\n6466\n6467\n6468\n6469\n6470\n6471\n6472\n6473\n6474\n6475\n6476\n6477\n6478\n6479\n6480\n6481\n6482\n6483\n6484\n6485\n6486\n6487\n6488\n6489\n6490\n6491\n6492\n6493\n6494\n6495\n6496\n6497\n6498\n6499\n6500\n6501\n6502\n6503\n6504\n6505\n6506\n6507\n6508\n6509\n6510\n6511\n6512\n6513\n6514\n6515\n6516\n6517\n6518\n6519\n6520\n6521\n6522\n6523\n6524\n6525\n'InformationCollections'\n6526\n6527\n6528\n6529\n6530\n6531\n6532\n6533\n6534\n6535\n6536\n6537\n6538\n6539\n6540\n6541\n6542\n6543\n6544\n6545\n6546\n6547\n6548\n6549\n6550\n6551\n6552\n6553\n6554\n6555\n6556\n6557\n6558\n6559\n6560\n6561\n6562\n6563\n6564\n6565\n6566\n6567\n6568\n6569\n6570\n6571\n6572\n6573\n6574\n6575\n6576\n6577\n6578\n6579\n6580\n6581\n6582\n6583\n6584\n6585\n6586\n6587\n6588\n6589\n6590\n6591\n6592\n6593\n6594\n6595\n6596\n6597\n6598\n6599\n6600\n6601\n6602\n6603\n6604\n6605\n6606\n6607\n6608\n6609\n6610\n6611\n6612\n6613\n6614\n6615\n6616\n6617\n6618\n6619\n6620\n6621\n6622\n6623\n6624\n6625\n6626\n6627\n6628\n6629\n6630\n6631\n6632\n6633\n6634\n6635\n6636\n6637\n6638\n6639\n6640\n6641\n6642\n6643\n6644\n6645\n6646\n6647\n6648\n6649\n6650\n6651\n6652\n6653\n6654\n6655\n6656\n6657\n6658\n6659\n6660\n6661\n6662\n6663\n6664\n6665\n6666\n6667\n6668\n6669\n6670\n6671\n6672\n6673\n6674\n6675\n6676\n6677\n6678\n6679\n6680\n6681\n6682\n6683\n6684\n6685\n6686\n6687\n6688\n6689\n6690\n6691\n6692\n6693\n6694\n6695\n6696\n6697\n6698\n6699\n6700\n6701\n6702\n6703\n6704\n6705\n6706\n6707\n6708\n6709\n6710\n6711\n6712\n6713\n6714\n6715\n6716\n6717\n6718\n6719\n6720\n6721\n6722\n6723\n6724\n6725\n6726\n6727\n6728\n6729\n6730\n6731\n6732\n6733\n6734\n6735\n6736\n6737\n6738\n6739\n6740\n6741\n6742\n6743\n6744\n6745\n6746\n6747\n6748\n6749\n6750\n6751\n6752\n6753\n6754\n6755\n6756\n6757\n6758\n6759\n6760\n6761\n6762\n6763\n6764\n6765\n6766\n6767\n6768\n6769\n6770\n6771\n6772\n6773\n6774\n6775\n6776\n6777\n6778\n6779\n6780\n6781\n6782\n6783\n6784\n6785\n6786\n6787\n6788\n6789\n6790\n6791\n6792\n6793\n6794\n6795\n6796\n6797\n6798\n6799\n6800\n6801\n6802\n6803\n6804\n6805\n6806\n6807\n6808\n6809\n6810\n6811\n6812\n6813\n6814\n6815\n6816\n6817\n6818\n6819\n6820\n6821\n6822\n6823\n6824\n6825\n6826\n6827\n6828\n6829\n6830\n6831\n6832\n6833\n6834\n6835\n6836\n6837\n6838\n6839\n6840\n6841\n6842\n6843\n6844\n6845\n6846\n6847\n6848\n6849\n6850\n6851\n6852\n6853\n6854\n6855\n6856\n6857\n6858\n6859\n6860\n6861\n6862\n6863\n6864\n6865\n6866\n6867\n6868\n6869\n6870\n6871\n6872\n6873\n6874\n6875\n6876\n6877\n6878\n6879\n6880\n6881\n6882\n6883\n6884\n6885\n6886\n6887\n6888\n6889\n6890\n6891\n6892\n6893\n6894\n6895\n6896\n6897\n6898\n6899\n6900\n6901\n6902\n6903\n6904\n6905\n6906\n6907\n6908\n6909\n6910\n6911\n6912\n6913\n6914\n6915\n6916\n6917\n6918\n6919\n6920\n6921\n6922\n6923\n6924\n6925\n6926\n6927\n6928\n6929\n6930\n6931\n6932\n6933\n6934\n6935\n6936\n6937\n6938\n6939\n6940\n6941\n6942\n6943\n6944\n6945\n6946\n'InformationCollections'\n6947\n6948\n6949\n6950\n6951\n6952\n6953\n6954\n6955\n6956\n6957\n6958\n6959\n6960\n6961\n6962\n6963\n'InformationCollections'\n6964\n6965\n6966\n6967\n6968\n6969\n6970\n6971\n6972\n6973\n6974\n6975\n6976\n6977\n6978\n6979\n6980\n6981\n6982\n6983\n6984\n6985\n6986\n6987\n6988\n6989\n6990\n6991\n6992\n6993\n6994\n6995\n6996\n6997\n6998\n6999\n7000\n7001\n7002\n7003\n7004\n7005\n7006\n7007\n7008\n7009\n7010\n7011\n7012\n7013\n7014\n7015\n7016\n7017\n7018\n7019\n7020\n7021\n7022\n7023\n7024\n7025\n7026\n7027\n7028\n7029\n7030\n7031\n7032\n7033\n7034\n7035\n7036\n7037\n7038\n7039\n7040\n7041\n7042\n7043\n7044\n'InformationCollections'\n7045\n7046\n7047\n7048\n7049\n7050\n7051\n'InformationCollections'\n7052\n7053\n7054\n7055\n7056\n7057\n'InformationCollections'\n7058\n7059\n7060\n7061\n7062\n7063\n'InformationCollections'\n7064\n7065\n7066\n7067\n7068\n7069\n7070\n7071\n7072\n7073\n7074\n7075\n7076\n7077\n7078\n7079\n7080\n7081\n7082\n7083\n7084\n7085\n7086\n7087\n7088\n7089\n7090\n7091\n7092\n7093\n7094\n7095\n7096\n7097\n7098\n7099\n7100\n7101\n7102\n7103\n7104\n7105\n7106\n7107\n7108\n7109\n7110\n7111\n7112\n7113\n7114\n7115\n7116\n7117\n7118\n'InformationCollections'\n7119\n7120\n7121\n7122\n7123\n7124\n7125\n7126\n7127\n7128\n7129\n7130\n7131\n7132\n7133\n7134\n7135\n7136\n7137\n7138\n7139\n7140\n7141\n7142\n7143\n7144\n7145\n7146\n7147\n7148\n7149\n7150\n7151\n7152\n7153\n7154\n7155\n7156\n7157\n7158\n7159\n7160\n7161\n7162\n7163\n7164\n7165\n7166\n7167\n7168\n7169\n7170\n7171\n7172\n7173\n7174\n7175\n7176\n7177\n7178\n7179\n7180\n7181\n7182\n7183\n7184\n7185\n7186\n7187\n7188\n7189\n7190\n7191\n7192\n7193\n7194\n7195\n7196\n7197\n7198\n7199\n7200\n7201\n7202\n7203\n7204\n7205\n7206\n7207\n7208\n7209\n7210\n7211\n7212\n7213\n7214\n7215\n7216\n7217\n7218\n7219\n7220\n7221\n7222\n7223\n7224\n7225\n7226\n7227\n7228\n7229\n7230\n7231\n7232\n7233\n7234\n7235\n7236\n7237\n7238\n7239\n7240\n7241\n7242\n7243\n7244\n7245\n7246\n7247\n7248\n7249\n7250\n7251\n7252\n7253\n7254\n7255\n7256\n7257\n7258\n7259\n7260\n7261\n7262\n7263\n7264\n7265\n7266\n7267\n7268\n7269\n7270\n7271\n7272\n7273\n7274\n7275\n7276\n7277\n7278\n7279\n7280\n7281\n7282\n7283\n7284\n7285\n7286\n7287\n7288\n7289\n7290\n7291\n7292\n7293\n7294\n7295\n7296\n7297\n7298\n7299\n7300\n7301\n7302\n7303\n7304\n7305\n7306\n7307\n7308\n7309\n7310\n7311\n7312\n7313\n7314\n7315\n7316\n7317\n7318\n7319\n7320\n7321\n7322\n7323\n7324\n7325\n7326\n7327\n7328\n7329\n7330\n7331\n7332\n7333\n7334\n7335\n7336\n7337\n7338\n7339\n7340\n7341\n7342\n7343\n7344\n7345\n7346\n7347\n7348\n7349\n7350\n7351\n7352\n7353\n7354\n7355\n7356\n7357\n7358\n7359\n7360\n7361\n7362\n7363\n7364\n7365\n7366\n7367\n7368\n7369\n7370\n7371\n7372\n7373\n7374\n7375\n7376\n7377\n7378\n7379\n7380\n7381\n7382\n7383\n7384\n7385\n7386\n7387\n7388\n7389\n7390\n7391\n7392\n7393\n7394\n7395\n7396\n7397\n7398\n7399\n7400\n7401\n7402\n7403\n7404\n7405\n7406\n7407\n7408\n7409\n7410\n7411\n7412\n7413\n7414\n7415\n7416\n7417\n7418\n7419\n7420\n7421\n7422\n7423\n7424\n7425\n7426\n7427\n7428\n7429\n7430\n7431\n7432\n7433\n7434\n7435\n7436\n7437\n7438\n7439\n7440\n7441\n7442\n7443\n7444\n7445\n7446\n7447\n7448\n7449\n7450\n7451\n7452\n7453\n7454\n7455\n7456\n7457\n7458\n7459\n7460\n7461\n7462\n7463\n7464\n7465\n7466\n7467\n7468\n7469\n7470\n7471\n7472\n7473\n7474\n7475\n7476\n7477\n7478\n7479\n7480\n7481\n7482\n7483\n7484\n7485\n7486\n7487\n7488\n7489\n7490\n7491\n7492\n7493\n7494\n7495\n7496\n7497\n7498\n7499\n7500\n7501\n7502\n7503\n7504\n7505\n7506\n7507\n7508\n7509\n7510\n7511\n7512\n7513\n7514\n7515\n7516\n7517\n7518\n7519\n7520\n7521\n7522\n7523\n7524\n7525\n7526\n7527\n7528\n7529\n7530\n7531\n7532\n7533\n7534\n7535\n7536\n7537\n7538\n7539\n7540\n7541\n7542\n7543\n7544\n7545\n7546\n7547\n7548\n7549\n7550\n7551\n7552\n7553\n7554\n7555\n7556\n7557\n7558\n7559\n7560\n7561\n7562\n7563\n7564\n7565\n7566\n7567\n7568\n7569\n7570\n7571\n7572\n7573\n7574\n7575\n7576\n7577\n7578\n7579\n7580\n7581\n7582\n7583\n7584\n7585\n7586\n7587\n7588\n7589\n7590\n7591\n7592\n7593\n7594\n7595\n7596\n7597\n7598\n7599\n7600\n7601\n7602\n7603\n7604\n7605\n7606\n7607\n7608\n7609\n7610\n7611\n7612\n7613\n7614\n7615\n7616\n7617\n7618\n7619\n7620\n7621\n7622\n7623\n7624\n7625\n7626\n7627\n7628\n7629\n7630\n7631\n7632\n7633\n7634\n7635\n7636\n7637\n7638\n7639\n7640\n7641\n7642\n7643\n7644\n7645\n7646\n7647\n7648\n7649\n7650\n7651\n7652\n7653\n7654\n7655\n7656\n7657\n7658\n7659\n7660\n7661\n7662\n7663\n7664\n7665\n7666\n7667\n7668\n7669\n7670\n7671\n7672\n7673\n7674\n7675\n7676\n7677\n7678\n7679\n7680\n7681\n7682\n7683\n7684\n7685\n7686\n7687\n7688\n7689\n7690\n7691\n7692\n7693\n7694\n7695\n7696\n7697\n7698\n7699\n7700\n7701\n7702\n7703\n7704\n7705\n7706\n7707\n7708\n7709\n7710\n7711\n7712\n7713\n7714\n7715\n7716\n7717\n7718\n7719\n7720\n7721\n7722\n7723\n7724\n7725\n7726\n7727\n7728\n7729\n7730\n7731\n7732\n7733\n7734\n7735\n7736\n7737\n7738\n7739\n7740\n7741\n7742\n7743\n7744\n7745\n7746\n7747\n7748\n7749\n7750\n7751\n7752\n7753\n7754\n7755\n7756\n7757\n7758\n7759\n7760\n7761\n7762\n7763\n7764\n7765\n7766\n7767\n7768\n7769\n7770\n7771\n'InformationCollections'\n7772\n7773\n7774\n7775\n7776\n7777\n7778\n7779\n7780\n7781\n7782\n7783\n7784\n7785\n7786\n7787\n7788\n7789\n7790\n7791\n7792\n7793\n7794\n7795\n7796\n7797\n7798\n7799\n7800\n7801\n7802\n7803\n7804\n7805\n7806\n7807\n7808\n7809\n7810\n7811\n7812\n7813\n7814\n7815\n7816\n7817\n7818\n7819\n7820\n7821\n7822\n7823\n7824\n7825\n7826\n7827\n7828\n7829\n7830\n7831\n7832\n7833\n7834\n7835\n7836\n7837\n7838\n7839\n7840\n7841\n7842\n7843\n7844\n7845\n7846\n7847\n7848\n7849\n7850\n7851\n7852\n7853\n7854\n7855\n7856\n7857\n7858\n7859\n7860\n7861\n7862\n7863\n7864\n7865\n7866\n7867\n7868\n7869\n7870\n7871\n7872\n7873\n7874\n7875\n7876\n7877\n7878\n7879\n7880\n7881\n7882\n7883\n7884\n7885\n7886\n7887\n7888\n7889\n7890\n7891\n7892\n7893\n7894\n7895\n7896\n7897\n7898\n7899\n7900\n7901\n7902\n7903\n7904\n7905\n7906\n7907\n'InformationCollections'\n7908\n7909\n7910\n7911\n7912\n7913\n7914\n7915\n7916\n7917\n7918\n7919\n7920\n7921\n7922\n7923\n7924\n7925\n7926\n7927\n7928\n7929\n7930\n7931\n7932\n7933\n7934\n7935\n7936\n7937\n7938\n7939\n7940\n7941\n7942\n7943\n7944\n7945\n7946\n7947\n7948\n7949\n7950\n7951\n7952\n7953\n7954\n7955\n7956\n7957\n7958\n7959\n7960\n7961\n7962\n7963\n7964\n7965\n7966\n7967\n7968\n7969\n7970\n7971\n7972\n7973\n7974\n7975\n7976\n7977\n7978\n7979\n7980\n7981\n7982\n7983\n7984\n7985\n7986\n7987\n7988\n7989\n7990\n7991\n7992\n7993\n7994\n7995\n7996\n7997\n7998\n7999\n8000\n8001\n8002\n8003\n8004\n8005\n8006\n8007\n8008\n8009\n8010\n8011\n8012\n8013\n8014\n8015\n8016\n8017\n8018\n8019\n8020\n8021\n8022\n8023\n8024\n8025\n'InformationCollections'\n8026\n'InformationCollections'\n8027\n8028\n8029\n8030\n8031\n8032\n8033\n8034\n8035\n8036\n8037\n8038\n8039\n8040\n8041\n8042\n8043\n8044\n8045\n8046\n8047\n8048\n8049\n8050\n8051\n8052\n8053\n8054\n8055\n8056\n8057\n8058\n8059\n8060\n8061\n8062\n8063\n8064\n8065\n8066\n8067\n8068\n8069\n8070\n8071\n8072\n8073\n8074\n8075\n8076\n8077\n8078\n8079\n8080\n8081\n8082\n8083\n8084\n8085\n8086\n8087\n8088\n8089\n8090\n8091\n8092\n8093\n8094\n8095\n8096\n8097\n8098\n8099\n8100\n8101\n8102\n8103\n8104\n8105\n8106\n8107\n8108\n8109\n8110\n8111\n8112\n8113\n8114\n8115\n8116\n8117\n8118\n8119\n8120\n8121\n8122\n8123\n8124\n8125\n8126\n8127\n8128\n8129\n8130\n8131\n8132\n8133\n8134\n8135\n8136\n8137\n8138\n8139\n8140\n8141\n8142\n8143\n8144\n8145\n8146\n8147\n8148\n8149\n8150\n8151\n8152\n8153\n8154\n8155\n8156\n8157\n8158\n8159\n8160\n8161\n8162\n8163\n8164\n8165\n8166\n8167\n8168\n8169\n8170\n8171\n'InformationCollections'\n8172\n8173\n8174\n8175\n8176\n8177\n8178\n8179\n8180\n8181\n8182\n8183\n8184\n8185\n8186\n8187\n8188\n8189\n8190\n8191\n8192\n8193\n8194\n8195\n8196\n8197\n8198\n8199\n8200\n8201\n8202\n8203\n8204\n8205\n8206\n8207\n8208\n8209\n8210\n8211\n8212\n8213\n8214\n8215\n8216\n8217\n8218\n8219\n8220\n8221\n8222\n8223\n8224\n8225\n8226\n8227\n8228\n8229\n8230\n8231\n8232\n8233\n8234\n8235\n8236\n8237\n8238\n8239\n8240\n8241\n8242\n8243\n8244\n8245\n8246\n8247\n8248\n8249\n8250\n8251\n8252\n8253\n8254\n8255\n8256\n8257\n8258\n8259\n8260\n8261\n8262\n8263\n8264\n8265\n8266\n8267\n8268\n8269\n8270\n8271\n8272\n8273\n8274\n8275\n8276\n8277\n8278\n'InformationCollections'\n8279\n'InformationCollections'\n8280\n'InformationCollections'\n8281\n8282\n8283\n8284\n8285\n8286\n8287\n8288\n8289\n8290\n8291\n8292\n8293\n8294\n8295\n8296\n8297\n8298\n8299\n8300\n8301\n8302\n8303\n8304\n8305\n'InformationCollections'\n8306\n8307\n8308\n8309\n8310\n8311\n8312\n8313\n8314\n8315\n8316\n8317\n8318\n8319\n8320\n8321\n8322\n8323\n8324\n8325\n8326\n8327\n8328\n8329\n8330\n8331\n8332\n8333\n8334\n8335\n8336\n8337\n8338\n8339\n8340\n8341\n8342\n8343\n8344\n8345\n8346\n8347\n8348\n8349\n8350\n8351\n8352\n8353\n8354\n8355\n8356\n8357\n8358\n8359\n8360\n8361\n8362\n8363\n8364\n8365\n8366\n8367\n8368\n8369\n8370\n8371\n8372\n8373\n8374\n8375\n8376\n8377\n8378\n8379\n8380\n8381\n8382\n8383\n8384\n8385\n8386\n8387\n8388\n8389\n8390\n8391\n8392\n8393\n8394\n8395\n8396\n8397\n8398\n8399\n8400\n8401\n8402\n8403\n8404\n8405\n8406\n8407\n8408\n8409\n8410\n8411\n8412\n'InformationCollections'\n8413\n8414\n8415\n8416\n8417\n8418\n8419\n8420\n8421\n8422\n8423\n8424\n8425\n8426\n8427\n8428\n8429\n8430\n8431\n8432\n8433\n8434\n8435\n8436\n8437\n'InformationCollections'\n8438\n8439\n8440\n8441\n8442\n8443\n8444\n8445\n8446\n8447\n8448\n8449\n8450\n8451\n8452\n8453\n8454\n8455\n8456\n8457\n8458\n8459\n8460\n8461\n8462\n8463\n8464\n8465\n8466\n8467\n8468\n8469\n8470\n8471\n8472\n8473\n8474\n8475\n8476\n8477\n8478\n8479\n8480\n8481\n8482\n8483\n8484\n8485\n8486\n8487\n8488\n8489\n8490\n8491\n8492\n8493\n8494\n8495\n8496\n8497\n8498\n8499\n8500\n8501\n8502\n8503\n8504\n8505\n8506\n8507\n8508\n8509\n8510\n8511\n8512\n8513\n8514\n8515\n8516\n8517\n8518\n8519\n8520\n8521\n8522\n8523\n8524\n8525\n8526\n8527\n8528\n8529\n8530\n8531\n8532\n8533\n8534\n8535\n8536\n8537\n8538\n8539\n8540\n8541\n8542\n8543\n8544\n8545\n8546\n8547\n8548\n8549\n8550\n8551\n8552\n8553\n8554\n8555\n8556\n8557\n8558\n8559\n8560\n8561\n8562\n8563\n8564\n8565\n8566\n8567\n8568\n8569\n8570\n8571\n8572\n8573\n8574\n8575\n8576\n8577\n8578\n8579\n8580\n8581\n8582\n8583\n8584\n8585\n8586\n8587\n8588\n8589\n8590\n8591\n8592\n8593\n8594\n8595\n8596\n8597\n8598\n8599\n8600\n8601\n8602\n8603\n8604\n8605\n8606\n8607\n8608\n8609\n8610\n8611\n8612\n8613\n8614\n8615\n8616\n8617\n8618\n8619\n8620\n8621\n8622\n8623\n8624\n8625\n'InformationCollections'\n8626\n8627\n8628\n8629\n8630\n8631\n8632\n8633\n8634\n8635\n8636\n8637\n8638\n8639\n8640\n8641\n8642\n8643\n8644\n8645\n8646\n8647\n8648\n8649\n8650\n8651\n8652\n8653\n8654\n8655\n8656\n8657\n8658\n8659\n8660\n8661\n8662\n8663\n8664\n8665\n8666\n8667\n8668\n8669\n8670\n8671\n8672\n8673\n8674\n8675\n8676\n8677\n8678\n8679\n8680\n8681\n8682\n8683\n8684\n8685\n8686\n8687\n8688\n8689\n8690\n8691\n8692\n8693\n8694\n8695\n8696\n8697\n8698\n8699\n8700\n8701\n8702\n8703\n8704\n8705\n8706\n8707\n8708\n8709\n8710\n8711\n8712\n8713\n8714\n8715\n8716\n8717\n8718\n8719\n8720\n8721\n8722\n8723\n8724\n8725\n8726\n8727\n8728\n8729\n8730\n8731\n8732\n8733\n8734\n8735\n8736\n8737\n8738\n8739\n8740\n8741\n8742\n8743\n8744\n8745\n8746\n8747\n8748\n8749\n8750\n8751\n8752\n8753\n8754\n8755\n8756\n8757\n8758\n8759\n8760\n8761\n8762\n8763\n8764\n8765\n8766\n8767\n8768\n8769\n8770\n8771\n8772\n8773\n8774\n8775\n8776\n8777\n8778\n8779\n8780\n8781\n8782\n8783\n8784\n8785\n8786\n8787\n8788\n8789\n8790\n8791\n8792\n8793\n8794\n8795\n8796\n8797\n8798\n8799\n8800\n8801\n8802\n8803\n8804\n8805\n8806\n8807\n8808\n8809\n8810\n8811\n8812\n8813\n8814\n8815\n8816\n8817\n8818\n8819\n8820\n8821\n8822\n8823\n8824\n8825\n8826\n8827\n8828\n8829\n8830\n8831\n8832\n8833\n8834\n8835\n8836\n8837\n8838\n8839\n8840\n8841\n8842\n8843\n8844\n8845\n8846\n8847\n8848\n8849\n8850\n8851\n8852\n8853\n8854\n8855\n8856\n8857\n8858\n8859\n8860\n8861\n8862\n8863\n8864\n8865\n8866\n8867\n8868\n8869\n8870\n8871\n8872\n8873\n8874\n8875\n8876\n8877\n8878\n8879\n8880\n8881\n8882\n8883\n8884\n8885\n8886\n8887\n8888\n8889\n8890\n8891\n8892\n8893\n8894\n8895\n8896\n8897\n8898\n8899\n8900\n8901\n8902\n8903\n8904\n8905\n8906\n8907\n8908\n8909\n8910\n8911\n8912\n8913\n8914\n8915\n8916\n8917\n8918\n8919\n8920\n8921\n8922\n8923\n8924\n8925\n8926\n8927\n8928\n8929\n8930\n8931\n8932\n8933\n8934\n8935\n8936\n8937\n8938\n8939\n8940\n8941\n8942\n8943\n8944\n8945\n8946\n8947\n8948\n8949\n8950\n8951\n8952\n8953\n8954\n8955\n8956\n8957\n8958\n8959\n8960\n8961\n8962\n8963\n8964\n8965\n8966\n8967\n8968\n8969\n8970\n8971\n8972\n8973\n8974\n8975\n8976\n8977\n8978\n8979\n8980\n8981\n8982\n8983\n8984\n8985\n8986\n8987\n8988\n8989\n8990\n8991\n8992\n8993\n8994\n8995\n8996\n8997\n8998\n8999\n9000\n9001\n9002\n9003\n9004\n9005\n9006\n9007\n9008\n9009\n9010\n9011\n9012\n9013\n9014\n9015\n9016\n9017\n9018\n9019\n9020\n9021\n9022\n9023\n9024\n9025\n9026\n9027\n9028\n9029\n9030\n9031\n9032\n9033\n9034\n9035\n9036\n9037\n9038\n9039\n9040\n9041\n9042\n9043\n9044\n9045\n9046\n9047\n9048\n9049\n9050\n9051\n9052\n9053\n9054\n9055\n9056\n9057\n9058\n9059\n9060\n9061\n9062\n9063\n9064\n9065\n9066\n9067\n9068\n9069\n9070\n9071\n9072\n9073\n9074\n9075\n9076\n9077\n9078\n9079\n9080\n9081\n9082\n9083\n9084\n9085\n9086\n9087\n9088\n9089\n9090\n9091\n9092\n9093\n9094\n9095\n9096\n9097\n9098\n9099\n9100\n9101\n9102\n9103\n9104\n9105\n9106\n9107\n9108\n9109\n9110\n9111\n9112\n9113\n9114\n9115\n9116\n9117\n9118\n9119\n9120\n9121\n9122\n9123\n9124\n9125\n9126\n9127\n9128\n9129\n9130\n9131\n9132\n9133\n9134\n9135\n9136\n9137\n9138\n9139\n9140\n9141\n9142\n9143\n9144\n9145\n9146\n9147\n9148\n9149\n9150\n9151\n9152\n9153\n9154\n9155\n9156\n9157\n9158\n9159\n9160\n9161\n9162\n9163\n9164\n9165\n9166\n9167\n9168\n9169\n9170\n9171\n9172\n9173\n9174\n9175\n9176\n9177\n9178\n9179\n9180\n9181\n9182\n9183\n9184\n9185\n9186\n9187\n9188\n9189\n9190\n9191\n9192\n9193\n9194\n9195\n9196\n9197\n9198\n9199\n9200\n9201\n9202\n9203\n9204\n9205\n9206\n9207\n9208\n9209\n9210\n9211\n9212\n9213\n9214\n9215\n9216\n9217\n9218\n9219\n9220\n9221\n9222\n9223\n9224\n9225\n9226\n9227\n9228\n9229\n9230\n9231\n9232\n9233\n9234\n9235\n9236\n9237\n9238\n9239\n9240\n9241\n9242\n9243\n9244\n9245\n9246\n9247\n9248\n9249\n9250\n9251\n9252\n9253\n9254\n9255\n9256\n9257\n9258\n9259\n9260\n9261\n9262\n9263\n9264\n9265\n9266\n9267\n9268\n9269\n9270\n9271\n9272\n9273\n9274\n9275\n9276\n9277\n9278\n9279\n9280\n9281\n9282\n9283\n9284\n9285\n9286\n9287\n9288\n9289\n9290\n9291\n9292\n'InformationCollections'\n9293\n9294\n9295\n9296\n9297\n9298\n9299\n9300\n9301\n9302\n9303\n9304\n9305\n9306\n9307\n9308\n9309\n9310\n9311\n'InformationCollections'\n9312\n9313\n9314\n9315\n9316\n9317\n9318\n9319\n9320\n9321\n9322\n9323\n9324\n9325\n9326\n9327\n'InformationCollections'\n"
    }
   ],
   "source": [
    "#iterates over each ICR element and extracts relevant data.... work in progress\n",
    "#unfortunately the indexing convetion used in necessary based off of the output from xmltodict\n",
    "new_list_2 = []\n",
    "for t in range(len(xml_dict['InformationCollectionRequestList']['InformationCollectionRequest'])):\n",
    "    print(t)\n",
    "    try:\n",
    "        if type(xml_dict['InformationCollectionRequestList']['InformationCollectionRequest'][t]['InformationCollections']['InformationCollection']) == list:\n",
    "\n",
    "            for x in range(len(xml_dict['InformationCollectionRequestList']['InformationCollectionRequest'][t]['InformationCollections']['InformationCollection'])):\n",
    "                temp_dict_2 = {}\n",
    "\n",
    "                temp_dict_2['OMBControlNumber'] = xml_dict['InformationCollectionRequestList']['InformationCollectionRequest'][t].get('OMBControlNumber')\n",
    "                temp_dict_2['ICRReferenceNumber'] = xml_dict['InformationCollectionRequestList']['InformationCollectionRequest'][t].get('ICRReferenceNumber')\n",
    "                temp_dict_2['AgencyCode'] = xml_dict['InformationCollectionRequestList']['InformationCollectionRequest'][t].get('AgencyCode')\n",
    "                temp_dict_2['Title'] = xml_dict['InformationCollectionRequestList']['InformationCollectionRequest'][t].get('Title')\n",
    "                temp_dict_2['AnnualFederalCostAmount'] = xml_dict['InformationCollectionRequestList']['InformationCollectionRequest'][t].get('AnnualFederalCostAmount')\n",
    "                temp_dict_2.update(convert_flatten(xml_dict['InformationCollectionRequestList']['InformationCollectionRequest'][t]['InformationCollections']['InformationCollection'][x]))\n",
    "                new_list_2.append(temp_dict_2)\n",
    "                #temp_dict_2.clear()\n",
    "        else:\n",
    "            temp_dict_2 = {}\n",
    "\n",
    "            temp_dict_2['OMBControlNumber'] = xml_dict['InformationCollectionRequestList']['InformationCollectionRequest'][t].get('OMBControlNumber')\n",
    "            temp_dict_2['ICRReferenceNumber'] = xml_dict['InformationCollectionRequestList']['InformationCollectionRequest'][t].get('ICRReferenceNumber')\n",
    "            temp_dict_2['AgencyCode'] = xml_dict['InformationCollectionRequestList']['InformationCollectionRequest'][t].get('AgencyCode')\n",
    "            temp_dict_2['Title'] = xml_dict['InformationCollectionRequestList']['InformationCollectionRequest'][t].get('Title')\n",
    "            temp_dict_2['AnnualFederalCostAmount'] = xml_dict['InformationCollectionRequestList']['InformationCollectionRequest'][t].get('AnnualFederalCostAmount')\n",
    "\n",
    "            temp_dict_2.update(convert_flatten(xml_dict['InformationCollectionRequestList']['InformationCollectionRequest'][t]['InformationCollections']['InformationCollection']))\n",
    "\n",
    "            new_list_2.append(temp_dict_2)\n",
    "            temp_dict_2.clear()\n",
    "    except KeyError as e:\n",
    "        print(e)\n",
    "    \n",
    "    "
   ]
  },
  {
   "cell_type": "code",
   "execution_count": 17,
   "metadata": {},
   "outputs": [
    {
     "output_type": "execute_result",
     "data": {
      "text/plain": "   OMBControlNumber ICRReferenceNumber AgencyCode  \\\n12        0581-0093    201808-0581-002       0581   \n13        0581-0093    201808-0581-002       0581   \n\n                                                Title AnnualFederalCostAmount  \\\n12  National Research, Promotion, and Consumer Inf...                       0   \n13  National Research, Promotion & Consumer Inform...                       0   \n\n   CFRCitations_CFRCitation_CFRCitation_CFRTitle  \\\n12                                           NaN   \n13                                           NaN   \n\n   CFRCitations_CFRCitation_CFRCitation_CFRPart StandardFormIndicator  \\\n12                                          NaN                    No   \n13                                          NaN                    No   \n\n   ObligationCode FEABusinessReferenceModule_LineOfBusiness_@Code  ...  \\\n12      Mandatory                                             105  ...   \n13      Voluntary                                             105  ...   \n\n   Instruments_Instrument_ElectronicCapability  \\\n12                                         NaN   \n13                                         NaN   \n\n   Instruments_Instrument_InstrumentDocument_documentType  \\\n12                                                NaN       \n13                                                NaN       \n\n   AffectedPublicCode_PublicCode NumberResponses_AnnualQuantity  \\\n12                Private Sector                         166932   \n13                Private Sector                         273586   \n\n   BurdenHour_TotalQuantity  \\\n12                   138567   \n13                    12359   \n\n   BurdenHour_BurdenHourPerResponse_ReportingFrequencies_ReportingFrequency  \\\n12  [Monthly, On occasion, Quarterly, Weekly, Annu...                         \n13             [Monthly, Quarterly, Weekly, Annually]                         \n\n   BurdenCost_TotalAmount                           CFRCitations_CFRCitation  \\\n12                      0  [{'CFRCitation': {'CFRTitle': '7', 'CFRPart': ...   \n13                      0  [{'CFRCitation': {'CFRTitle': '7', 'CFRPart': ...   \n\n                               Instruments_Instrument  \\\n12  [{'FormNumber': 'WAT-FHR', 'FormName': 'Waterm...   \n13  [{'FormNumber': 'CN-100', 'FormName': 'Cotton ...   \n\n   BurdenHour_BurdenHourPerResponse_ReportingFrequencies  \n12                                                NaN     \n13                                                NaN     \n\n[2 rows x 28 columns]",
      "text/html": "<div>\n<style scoped>\n    .dataframe tbody tr th:only-of-type {\n        vertical-align: middle;\n    }\n\n    .dataframe tbody tr th {\n        vertical-align: top;\n    }\n\n    .dataframe thead th {\n        text-align: right;\n    }\n</style>\n<table border=\"1\" class=\"dataframe\">\n  <thead>\n    <tr style=\"text-align: right;\">\n      <th></th>\n      <th>OMBControlNumber</th>\n      <th>ICRReferenceNumber</th>\n      <th>AgencyCode</th>\n      <th>Title</th>\n      <th>AnnualFederalCostAmount</th>\n      <th>CFRCitations_CFRCitation_CFRCitation_CFRTitle</th>\n      <th>CFRCitations_CFRCitation_CFRCitation_CFRPart</th>\n      <th>StandardFormIndicator</th>\n      <th>ObligationCode</th>\n      <th>FEABusinessReferenceModule_LineOfBusiness_@Code</th>\n      <th>...</th>\n      <th>Instruments_Instrument_ElectronicCapability</th>\n      <th>Instruments_Instrument_InstrumentDocument_documentType</th>\n      <th>AffectedPublicCode_PublicCode</th>\n      <th>NumberResponses_AnnualQuantity</th>\n      <th>BurdenHour_TotalQuantity</th>\n      <th>BurdenHour_BurdenHourPerResponse_ReportingFrequencies_ReportingFrequency</th>\n      <th>BurdenCost_TotalAmount</th>\n      <th>CFRCitations_CFRCitation</th>\n      <th>Instruments_Instrument</th>\n      <th>BurdenHour_BurdenHourPerResponse_ReportingFrequencies</th>\n    </tr>\n  </thead>\n  <tbody>\n    <tr>\n      <th>12</th>\n      <td>0581-0093</td>\n      <td>201808-0581-002</td>\n      <td>0581</td>\n      <td>National Research, Promotion, and Consumer Inf...</td>\n      <td>0</td>\n      <td>NaN</td>\n      <td>NaN</td>\n      <td>No</td>\n      <td>Mandatory</td>\n      <td>105</td>\n      <td>...</td>\n      <td>NaN</td>\n      <td>NaN</td>\n      <td>Private Sector</td>\n      <td>166932</td>\n      <td>138567</td>\n      <td>[Monthly, On occasion, Quarterly, Weekly, Annu...</td>\n      <td>0</td>\n      <td>[{'CFRCitation': {'CFRTitle': '7', 'CFRPart': ...</td>\n      <td>[{'FormNumber': 'WAT-FHR', 'FormName': 'Waterm...</td>\n      <td>NaN</td>\n    </tr>\n    <tr>\n      <th>13</th>\n      <td>0581-0093</td>\n      <td>201808-0581-002</td>\n      <td>0581</td>\n      <td>National Research, Promotion &amp; Consumer Inform...</td>\n      <td>0</td>\n      <td>NaN</td>\n      <td>NaN</td>\n      <td>No</td>\n      <td>Voluntary</td>\n      <td>105</td>\n      <td>...</td>\n      <td>NaN</td>\n      <td>NaN</td>\n      <td>Private Sector</td>\n      <td>273586</td>\n      <td>12359</td>\n      <td>[Monthly, Quarterly, Weekly, Annually]</td>\n      <td>0</td>\n      <td>[{'CFRCitation': {'CFRTitle': '7', 'CFRPart': ...</td>\n      <td>[{'FormNumber': 'CN-100', 'FormName': 'Cotton ...</td>\n      <td>NaN</td>\n    </tr>\n  </tbody>\n</table>\n<p>2 rows × 28 columns</p>\n</div>"
     },
     "metadata": {},
     "execution_count": 17
    }
   ],
   "source": [
    "#example of a flat file. Each record refers to an \"informationcollection\" element in the xml source file\n",
    "new_df = pd.DataFrame(new_list_2)\n",
    "new_df.dropna(subset=['OMBControlNumber','NumberResponses_AnnualQuantity','BurdenHour_TotalQuantity'],inplace=True)\n",
    "new_df[new_df['OMBControlNumber']=='0581-0093']"
   ]
  },
  {
   "cell_type": "code",
   "execution_count": 26,
   "metadata": {},
   "outputs": [],
   "source": [
    "new_df.to_csv('example_flat_file.csv')"
   ]
  },
  {
   "cell_type": "code",
   "execution_count": 17,
   "metadata": {},
   "outputs": [
    {
     "output_type": "execute_result",
     "data": {
      "text/plain": "Index(['OMBControlNumber', 'ICRReferenceNumber', 'AgencyCode', 'Title',\n       'AnnualFederalCostAmount',\n       'CFRCitations_CFRCitation_CFRCitation_CFRTitle',\n       'CFRCitations_CFRCitation_CFRCitation_CFRPart', 'StandardFormIndicator',\n       'ObligationCode', 'FEABusinessReferenceModule_LineOfBusiness_@Code',\n       'FEABusinessReferenceModule_LineOfBusiness_#text',\n       'FEABusinessReferenceModule_Subfunction_@Code',\n       'FEABusinessReferenceModule_Subfunction_#text',\n       'Instruments_Instrument_FormNumber', 'Instruments_Instrument_FormName',\n       'Instruments_Instrument_URL',\n       'Instruments_Instrument_AvailableElectronically',\n       'Instruments_Instrument_CanSubmittedElectronically',\n       'Instruments_Instrument_ElectronicCapability',\n       'Instruments_Instrument_InstrumentDocument_documentType',\n       'AffectedPublicCode_PublicCode', 'NumberResponses_AnnualQuantity',\n       'BurdenHour_TotalQuantity',\n       'BurdenHour_BurdenHourPerResponse_ReportingFrequencies_ReportingFrequency',\n       'BurdenCost_TotalAmount', 'CFRCitations_CFRCitation',\n       'Instruments_Instrument',\n       'BurdenHour_BurdenHourPerResponse_ReportingFrequencies'],\n      dtype='object')"
     },
     "metadata": {},
     "execution_count": 17
    }
   ],
   "source": [
    "new_df.columns"
   ]
  },
  {
   "cell_type": "code",
   "execution_count": 19,
   "metadata": {},
   "outputs": [],
   "source": [
    "new_df[['AgencyCode','BurdenHour_TotalQuantity','AnnualFederalCostAmount','NumberResponses_AnnualQuantity','BurdenCost_TotalAmount']] = new_df[['AgencyCode','BurdenHour_TotalQuantity','AnnualFederalCostAmount','NumberResponses_AnnualQuantity','BurdenCost_TotalAmount']].apply(pd.to_numeric)"
   ]
  },
  {
   "cell_type": "code",
   "execution_count": 20,
   "metadata": {},
   "outputs": [
    {
     "output_type": "execute_result",
     "data": {
      "text/plain": "OMBControlNumber                                                             object\nICRReferenceNumber                                                           object\nAgencyCode                                                                    int64\nTitle                                                                        object\nAnnualFederalCostAmount                                                       int64\nCFRCitations_CFRCitation_CFRCitation_CFRTitle                                object\nCFRCitations_CFRCitation_CFRCitation_CFRPart                                 object\nStandardFormIndicator                                                        object\nObligationCode                                                               object\nFEABusinessReferenceModule_LineOfBusiness_@Code                              object\nFEABusinessReferenceModule_LineOfBusiness_#text                              object\nFEABusinessReferenceModule_Subfunction_@Code                                 object\nFEABusinessReferenceModule_Subfunction_#text                                 object\nInstruments_Instrument_FormNumber                                            object\nInstruments_Instrument_FormName                                              object\nInstruments_Instrument_URL                                                   object\nInstruments_Instrument_AvailableElectronically                               object\nInstruments_Instrument_CanSubmittedElectronically                            object\nInstruments_Instrument_ElectronicCapability                                  object\nInstruments_Instrument_InstrumentDocument_documentType                       object\nAffectedPublicCode_PublicCode                                                object\nNumberResponses_AnnualQuantity                                                int64\nBurdenHour_TotalQuantity                                                      int64\nBurdenHour_BurdenHourPerResponse_ReportingFrequencies_ReportingFrequency     object\nBurdenCost_TotalAmount                                                        int64\nCFRCitations_CFRCitation                                                     object\nInstruments_Instrument                                                       object\nBurdenHour_BurdenHourPerResponse_ReportingFrequencies                       float64\ndtype: object"
     },
     "metadata": {},
     "execution_count": 20
    }
   ],
   "source": [
    "new_df.dtypes"
   ]
  },
  {
   "cell_type": "code",
   "execution_count": 21,
   "metadata": {},
   "outputs": [
    {
     "output_type": "execute_result",
     "data": {
      "text/plain": "            AnnualFederalCostAmount\nAgencyCode                         \n607                    2.459029e+09\n1651                   2.318412e+08\n1615                   9.172434e+07\n960                    4.186988e+07\n1220                   2.668200e+07\n...                             ...\n1870                   0.000000e+00\n1110                   0.000000e+00\n1210                   0.000000e+00\n3045                   0.000000e+00\n1557                   0.000000e+00\n\n[182 rows x 1 columns]",
      "text/html": "<div>\n<style scoped>\n    .dataframe tbody tr th:only-of-type {\n        vertical-align: middle;\n    }\n\n    .dataframe tbody tr th {\n        vertical-align: top;\n    }\n\n    .dataframe thead th {\n        text-align: right;\n    }\n</style>\n<table border=\"1\" class=\"dataframe\">\n  <thead>\n    <tr style=\"text-align: right;\">\n      <th></th>\n      <th>AnnualFederalCostAmount</th>\n    </tr>\n    <tr>\n      <th>AgencyCode</th>\n      <th></th>\n    </tr>\n  </thead>\n  <tbody>\n    <tr>\n      <th>607</th>\n      <td>2.459029e+09</td>\n    </tr>\n    <tr>\n      <th>1651</th>\n      <td>2.318412e+08</td>\n    </tr>\n    <tr>\n      <th>1615</th>\n      <td>9.172434e+07</td>\n    </tr>\n    <tr>\n      <th>960</th>\n      <td>4.186988e+07</td>\n    </tr>\n    <tr>\n      <th>1220</th>\n      <td>2.668200e+07</td>\n    </tr>\n    <tr>\n      <th>...</th>\n      <td>...</td>\n    </tr>\n    <tr>\n      <th>1870</th>\n      <td>0.000000e+00</td>\n    </tr>\n    <tr>\n      <th>1110</th>\n      <td>0.000000e+00</td>\n    </tr>\n    <tr>\n      <th>1210</th>\n      <td>0.000000e+00</td>\n    </tr>\n    <tr>\n      <th>3045</th>\n      <td>0.000000e+00</td>\n    </tr>\n    <tr>\n      <th>1557</th>\n      <td>0.000000e+00</td>\n    </tr>\n  </tbody>\n</table>\n<p>182 rows × 1 columns</p>\n</div>"
     },
     "metadata": {},
     "execution_count": 21
    }
   ],
   "source": [
    "gp = pd.DataFrame(new_df.groupby('AgencyCode',sort=False)['AnnualFederalCostAmount'].mean())\n",
    "gp.sort_values(by=['AnnualFederalCostAmount'], ascending=False )"
   ]
  },
  {
   "cell_type": "code",
   "execution_count": null,
   "metadata": {},
   "outputs": [],
   "source": [
    "#Below cells are quick analysis based on data available in flat file"
   ]
  },
  {
   "cell_type": "code",
   "execution_count": 37,
   "metadata": {},
   "outputs": [
    {
     "output_type": "execute_result",
     "data": {
      "text/plain": "            NumberResponses_AnnualQuantity\nAgencyCode                                \n3084                          8.711117e+07\n3235                          5.483506e+07\n945                           2.553700e+07\n1250                          2.090750e+07\n1210                          1.311798e+07\n...                                    ...\n2133                          4.625000e+01\n1860                          1.500000e+01\n1870                          1.250000e+01\n2510                          5.500000e+00\n2020                          4.500000e+00\n\n[182 rows x 1 columns]",
      "text/html": "<div>\n<style scoped>\n    .dataframe tbody tr th:only-of-type {\n        vertical-align: middle;\n    }\n\n    .dataframe tbody tr th {\n        vertical-align: top;\n    }\n\n    .dataframe thead th {\n        text-align: right;\n    }\n</style>\n<table border=\"1\" class=\"dataframe\">\n  <thead>\n    <tr style=\"text-align: right;\">\n      <th></th>\n      <th>NumberResponses_AnnualQuantity</th>\n    </tr>\n    <tr>\n      <th>AgencyCode</th>\n      <th></th>\n    </tr>\n  </thead>\n  <tbody>\n    <tr>\n      <th>3084</th>\n      <td>8.711117e+07</td>\n    </tr>\n    <tr>\n      <th>3235</th>\n      <td>5.483506e+07</td>\n    </tr>\n    <tr>\n      <th>945</th>\n      <td>2.553700e+07</td>\n    </tr>\n    <tr>\n      <th>1250</th>\n      <td>2.090750e+07</td>\n    </tr>\n    <tr>\n      <th>1210</th>\n      <td>1.311798e+07</td>\n    </tr>\n    <tr>\n      <th>...</th>\n      <td>...</td>\n    </tr>\n    <tr>\n      <th>2133</th>\n      <td>4.625000e+01</td>\n    </tr>\n    <tr>\n      <th>1860</th>\n      <td>1.500000e+01</td>\n    </tr>\n    <tr>\n      <th>1870</th>\n      <td>1.250000e+01</td>\n    </tr>\n    <tr>\n      <th>2510</th>\n      <td>5.500000e+00</td>\n    </tr>\n    <tr>\n      <th>2020</th>\n      <td>4.500000e+00</td>\n    </tr>\n  </tbody>\n</table>\n<p>182 rows × 1 columns</p>\n</div>"
     },
     "metadata": {},
     "execution_count": 37
    }
   ],
   "source": [
    "gp1 = pd.DataFrame(new_df.groupby('AgencyCode',sort=False)['NumberResponses_AnnualQuantity'].mean())\n",
    "gp1.sort_values(by=['NumberResponses_AnnualQuantity'], ascending=False )"
   ]
  },
  {
   "cell_type": "code",
   "execution_count": 39,
   "metadata": {},
   "outputs": [
    {
     "output_type": "execute_result",
     "data": {
      "text/plain": "            BurdenCost_TotalAmount\nAgencyCode                        \n563                   1.261999e+08\n2126                  2.415511e+07\n1615                  1.544195e+07\n3235                  1.476473e+07\n2040                  1.380519e+07\n...                            ...\n935                   0.000000e+00\n985                   0.000000e+00\n1905                  0.000000e+00\n1894                  0.000000e+00\n1040                  0.000000e+00\n\n[182 rows x 1 columns]",
      "text/html": "<div>\n<style scoped>\n    .dataframe tbody tr th:only-of-type {\n        vertical-align: middle;\n    }\n\n    .dataframe tbody tr th {\n        vertical-align: top;\n    }\n\n    .dataframe thead th {\n        text-align: right;\n    }\n</style>\n<table border=\"1\" class=\"dataframe\">\n  <thead>\n    <tr style=\"text-align: right;\">\n      <th></th>\n      <th>BurdenCost_TotalAmount</th>\n    </tr>\n    <tr>\n      <th>AgencyCode</th>\n      <th></th>\n    </tr>\n  </thead>\n  <tbody>\n    <tr>\n      <th>563</th>\n      <td>1.261999e+08</td>\n    </tr>\n    <tr>\n      <th>2126</th>\n      <td>2.415511e+07</td>\n    </tr>\n    <tr>\n      <th>1615</th>\n      <td>1.544195e+07</td>\n    </tr>\n    <tr>\n      <th>3235</th>\n      <td>1.476473e+07</td>\n    </tr>\n    <tr>\n      <th>2040</th>\n      <td>1.380519e+07</td>\n    </tr>\n    <tr>\n      <th>...</th>\n      <td>...</td>\n    </tr>\n    <tr>\n      <th>935</th>\n      <td>0.000000e+00</td>\n    </tr>\n    <tr>\n      <th>985</th>\n      <td>0.000000e+00</td>\n    </tr>\n    <tr>\n      <th>1905</th>\n      <td>0.000000e+00</td>\n    </tr>\n    <tr>\n      <th>1894</th>\n      <td>0.000000e+00</td>\n    </tr>\n    <tr>\n      <th>1040</th>\n      <td>0.000000e+00</td>\n    </tr>\n  </tbody>\n</table>\n<p>182 rows × 1 columns</p>\n</div>"
     },
     "metadata": {},
     "execution_count": 39
    }
   ],
   "source": [
    "gp1 = pd.DataFrame(new_df.groupby('AgencyCode',sort=False)['BurdenCost_TotalAmount'].mean())\n",
    "gp1.sort_values(by=['BurdenCost_TotalAmount'], ascending=False )"
   ]
  },
  {
   "cell_type": "code",
   "execution_count": null,
   "metadata": {},
   "outputs": [],
   "source": [
    "gp1 = pd.DataFrame(new_df.groupby('AgencyCode',sort=False)['BurdenHour_TotalQuantity'].mean())\n",
    "gp1.sort_values(by=['BurdenHour_TotalQuantity'], ascending=False )"
   ]
  }
 ],
 "metadata": {
  "language_info": {
   "name": "python",
   "codemirror_mode": {
    "name": "ipython",
    "version": 3
   },
   "version": "3.6.6-final"
  },
  "orig_nbformat": 2,
  "file_extension": ".py",
  "mimetype": "text/x-python",
  "name": "python",
  "npconvert_exporter": "python",
  "pygments_lexer": "ipython3",
  "version": 3,
  "kernelspec": {
   "name": "python36664bitvenvvirtualenv3cb4ec72f3024435af1c9600ebbdae1e",
   "display_name": "Python 3.6.6 64-bit ('venv': virtualenv)"
  }
 },
 "nbformat": 4,
 "nbformat_minor": 2
}