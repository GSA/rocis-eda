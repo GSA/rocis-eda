{
 "cells": [
  {
   "cell_type": "code",
   "execution_count": 7,
   "metadata": {},
   "outputs": [],
   "source": [
    "import pandas as pd\n",
    "import numpy as np\n",
    "import xml.etree.ElementTree as ET\n",
    "from xml.etree.ElementTree import XMLParser\n",
    "import xmltodict\n",
    "import requests\n",
    "import io\n",
    "import matplotlib as plt\n",
    "from collections import MutableMapping \n",
    "\n",
    "from utils.parse import get_404\n",
    "from utils.parse import convert_flatten\n",
    "from utils.parse import get_url_list\n"
   ]
  },
  {
   "cell_type": "code",
   "execution_count": 6,
   "metadata": {},
   "outputs": [],
   "source": []
  },
  {
   "cell_type": "code",
   "execution_count": null,
   "metadata": {},
   "outputs": [],
   "source": [
    "df  = pd.read_csv('CurrentInventoryReport.csv')"
   ]
  },
  {
   "cell_type": "code",
   "execution_count": null,
   "metadata": {},
   "outputs": [],
   "source": []
  },
  {
   "cell_type": "code",
   "execution_count": 8,
   "metadata": {},
   "outputs": [],
   "source": [
    "#parser = XMLParser(encoding = 'utf-16')\n",
    "tree = ET.parse(\"data.xml\")\n",
    "root = tree.getroot()"
   ]
  },
  {
   "cell_type": "code",
   "execution_count": 9,
   "metadata": {},
   "outputs": [],
   "source": [
    "#xmltodict converts the xml structure to a json related format.  Problems arise with key naming convention, which will be adressed durther on\n",
    "#TODO: flatten dict\n",
    "with io.open('data.xml', 'r', encoding='utf-8-sig') as f:\n",
    "    contents = f.read()\n",
    "    xml_dict = xmltodict.parse(contents)\n",
    "    f.close()"
   ]
  },
  {
   "cell_type": "code",
   "execution_count": 4,
   "metadata": {},
   "outputs": [],
   "source": [
    "df2 = pd.DataFrame(xml_dict['InformationCollectionRequestList']['InformationCollectionRequest'][0])\n",
    "df2"
   ]
  },
  {
   "cell_type": "code",
   "execution_count": 5,
   "metadata": {},
   "outputs": [
    {
     "output_type": "execute_result",
     "data": {
      "text/plain": "                      OMBControlNumber ICRReferenceNumber AgencyCode  \\\nExpirationDate               0581-0004    201704-0581-001       0581   \nPerson                       0581-0004    201704-0581-001       0581   \nAuthorizingStatute           0581-0004    201704-0581-001       0581   \nBurdenResponse               0581-0004    201704-0581-001       0581   \nBurdenHour                   0581-0004    201704-0581-001       0581   \nBurdenCost                   0581-0004    201704-0581-001       0581   \nInformationCollection        0581-0004    201704-0581-001       0581   \nConcludedDate                0581-0004    201704-0581-001       0581   \n\n                                Title  \\\nExpirationDate         Tobacco Report   \nPerson                 Tobacco Report   \nAuthorizingStatute     Tobacco Report   \nBurdenResponse         Tobacco Report   \nBurdenHour             Tobacco Report   \nBurdenCost             Tobacco Report   \nInformationCollection  Tobacco Report   \nConcludedDate          Tobacco Report   \n\n                                                                Abstract  \\\nExpirationDate         The Tobacco Statistic Act of 1929 (7 U.S.C. 50...   \nPerson                 The Tobacco Statistic Act of 1929 (7 U.S.C. 50...   \nAuthorizingStatute     The Tobacco Statistic Act of 1929 (7 U.S.C. 50...   \nBurdenResponse         The Tobacco Statistic Act of 1929 (7 U.S.C. 50...   \nBurdenHour             The Tobacco Statistic Act of 1929 (7 U.S.C. 50...   \nBurdenCost             The Tobacco Statistic Act of 1929 (7 U.S.C. 50...   \nInformationCollection  The Tobacco Statistic Act of 1929 (7 U.S.C. 50...   \nConcludedDate          The Tobacco Statistic Act of 1929 (7 U.S.C. 50...   \n\n                                                             ICRTypeCode  \\\nExpirationDate         Extension without change of a currently approv...   \nPerson                 Extension without change of a currently approv...   \nAuthorizingStatute     Extension without change of a currently approv...   \nBurdenResponse         Extension without change of a currently approv...   \nBurdenHour             Extension without change of a currently approv...   \nBurdenCost             Extension without change of a currently approv...   \nInformationCollection  Extension without change of a currently approv...   \nConcludedDate          Extension without change of a currently approv...   \n\n                             Expiration ICRStatus  \\\nExpirationDate         2020-06-30-04:00    Active   \nPerson                              NaN    Active   \nAuthorizingStatute                  NaN    Active   \nBurdenResponse                      NaN    Active   \nBurdenHour                          NaN    Active   \nBurdenCost                          NaN    Active   \nInformationCollection               NaN    Active   \nConcludedDate                       NaN    Active   \n\n                                                           AgencyContact  \\\nExpirationDate                                                       NaN   \nPerson                 {'FirstName': 'Shethir', 'LastName': 'Riva', '...   \nAuthorizingStatute                                                   NaN   \nBurdenResponse                                                       NaN   \nBurdenHour                                                           NaN   \nBurdenCost                                                           NaN   \nInformationCollection                                                NaN   \nConcludedDate                                                        NaN   \n\n                           PIIFlag PrivacyActStatementFlag  \\\nExpirationDate         Uncollected             Uncollected   \nPerson                 Uncollected             Uncollected   \nAuthorizingStatute     Uncollected             Uncollected   \nBurdenResponse         Uncollected             Uncollected   \nBurdenHour             Uncollected             Uncollected   \nBurdenCost             Uncollected             Uncollected   \nInformationCollection  Uncollected             Uncollected   \nConcludedDate          Uncollected             Uncollected   \n\n                      AnnualFederalCostAmount StimulusIndicator  \\\nExpirationDate                          27900                No   \nPerson                                  27900                No   \nAuthorizingStatute                      27900                No   \nBurdenResponse                          27900                No   \nBurdenHour                              27900                No   \nBurdenCost                              27900                No   \nInformationCollection                   27900                No   \nConcludedDate                           27900                No   \n\n                      HealthcareIndicator DoddFrankActIndicator  \\\nExpirationDate                         No                    No   \nPerson                                 No                    No   \nAuthorizingStatute                     No                    No   \nBurdenResponse                         No                    No   \nBurdenHour                             No                    No   \nBurdenCost                             No                    No   \nInformationCollection                  No                    No   \nConcludedDate                          No                    No   \n\n                                                     AuthorizingStatutes  \\\nExpirationDate                                                       NaN   \nPerson                                                               NaN   \nAuthorizingStatute     {'USCode': {'USCTitle': '7', 'USCSection': '50...   \nBurdenResponse                                                       NaN   \nBurdenHour                                                           NaN   \nBurdenCost                                                           NaN   \nInformationCollection                                                NaN   \nConcludedDate                                                        NaN   \n\n                                                                  Burden  \\\nExpirationDate                                                       NaN   \nPerson                                                               NaN   \nAuthorizingStatute                                                   NaN   \nBurdenResponse         {'TotalQuantity': '120', 'PreviousTotalQuantit...   \nBurdenHour             {'TotalQuantity': '104', 'PreviousTotalQuantit...   \nBurdenCost              {'TotalAmount': '0', 'PreviousTotalAmount': '0'}   \nInformationCollection                                                NaN   \nConcludedDate                                                        NaN   \n\n                                                  InformationCollections  \\\nExpirationDate                                                       NaN   \nPerson                                                               NaN   \nAuthorizingStatute                                                   NaN   \nBurdenResponse                                                       NaN   \nBurdenHour                                                           NaN   \nBurdenCost                                                           NaN   \nInformationCollection  [{'Title': 'Tobacco Report', 'CFRCitations': {...   \nConcludedDate                                                        NaN   \n\n                                                          OIRAConclusion  \nExpirationDate                                                       NaN  \nPerson                                                               NaN  \nAuthorizingStatute                                                   NaN  \nBurdenResponse                                                       NaN  \nBurdenHour                                                           NaN  \nBurdenCost                                                           NaN  \nInformationCollection                                                NaN  \nConcludedDate          {'Date': '2017-06-16-04:00', 'Time': '03:40:21...  ",
      "text/html": "<div>\n<style scoped>\n    .dataframe tbody tr th:only-of-type {\n        vertical-align: middle;\n    }\n\n    .dataframe tbody tr th {\n        vertical-align: top;\n    }\n\n    .dataframe thead th {\n        text-align: right;\n    }\n</style>\n<table border=\"1\" class=\"dataframe\">\n  <thead>\n    <tr style=\"text-align: right;\">\n      <th></th>\n      <th>OMBControlNumber</th>\n      <th>ICRReferenceNumber</th>\n      <th>AgencyCode</th>\n      <th>Title</th>\n      <th>Abstract</th>\n      <th>ICRTypeCode</th>\n      <th>Expiration</th>\n      <th>ICRStatus</th>\n      <th>AgencyContact</th>\n      <th>PIIFlag</th>\n      <th>PrivacyActStatementFlag</th>\n      <th>AnnualFederalCostAmount</th>\n      <th>StimulusIndicator</th>\n      <th>HealthcareIndicator</th>\n      <th>DoddFrankActIndicator</th>\n      <th>AuthorizingStatutes</th>\n      <th>Burden</th>\n      <th>InformationCollections</th>\n      <th>OIRAConclusion</th>\n    </tr>\n  </thead>\n  <tbody>\n    <tr>\n      <th>ExpirationDate</th>\n      <td>0581-0004</td>\n      <td>201704-0581-001</td>\n      <td>0581</td>\n      <td>Tobacco Report</td>\n      <td>The Tobacco Statistic Act of 1929 (7 U.S.C. 50...</td>\n      <td>Extension without change of a currently approv...</td>\n      <td>2020-06-30-04:00</td>\n      <td>Active</td>\n      <td>NaN</td>\n      <td>Uncollected</td>\n      <td>Uncollected</td>\n      <td>27900</td>\n      <td>No</td>\n      <td>No</td>\n      <td>No</td>\n      <td>NaN</td>\n      <td>NaN</td>\n      <td>NaN</td>\n      <td>NaN</td>\n    </tr>\n    <tr>\n      <th>Person</th>\n      <td>0581-0004</td>\n      <td>201704-0581-001</td>\n      <td>0581</td>\n      <td>Tobacco Report</td>\n      <td>The Tobacco Statistic Act of 1929 (7 U.S.C. 50...</td>\n      <td>Extension without change of a currently approv...</td>\n      <td>NaN</td>\n      <td>Active</td>\n      <td>{'FirstName': 'Shethir', 'LastName': 'Riva', '...</td>\n      <td>Uncollected</td>\n      <td>Uncollected</td>\n      <td>27900</td>\n      <td>No</td>\n      <td>No</td>\n      <td>No</td>\n      <td>NaN</td>\n      <td>NaN</td>\n      <td>NaN</td>\n      <td>NaN</td>\n    </tr>\n    <tr>\n      <th>AuthorizingStatute</th>\n      <td>0581-0004</td>\n      <td>201704-0581-001</td>\n      <td>0581</td>\n      <td>Tobacco Report</td>\n      <td>The Tobacco Statistic Act of 1929 (7 U.S.C. 50...</td>\n      <td>Extension without change of a currently approv...</td>\n      <td>NaN</td>\n      <td>Active</td>\n      <td>NaN</td>\n      <td>Uncollected</td>\n      <td>Uncollected</td>\n      <td>27900</td>\n      <td>No</td>\n      <td>No</td>\n      <td>No</td>\n      <td>{'USCode': {'USCTitle': '7', 'USCSection': '50...</td>\n      <td>NaN</td>\n      <td>NaN</td>\n      <td>NaN</td>\n    </tr>\n    <tr>\n      <th>BurdenResponse</th>\n      <td>0581-0004</td>\n      <td>201704-0581-001</td>\n      <td>0581</td>\n      <td>Tobacco Report</td>\n      <td>The Tobacco Statistic Act of 1929 (7 U.S.C. 50...</td>\n      <td>Extension without change of a currently approv...</td>\n      <td>NaN</td>\n      <td>Active</td>\n      <td>NaN</td>\n      <td>Uncollected</td>\n      <td>Uncollected</td>\n      <td>27900</td>\n      <td>No</td>\n      <td>No</td>\n      <td>No</td>\n      <td>NaN</td>\n      <td>{'TotalQuantity': '120', 'PreviousTotalQuantit...</td>\n      <td>NaN</td>\n      <td>NaN</td>\n    </tr>\n    <tr>\n      <th>BurdenHour</th>\n      <td>0581-0004</td>\n      <td>201704-0581-001</td>\n      <td>0581</td>\n      <td>Tobacco Report</td>\n      <td>The Tobacco Statistic Act of 1929 (7 U.S.C. 50...</td>\n      <td>Extension without change of a currently approv...</td>\n      <td>NaN</td>\n      <td>Active</td>\n      <td>NaN</td>\n      <td>Uncollected</td>\n      <td>Uncollected</td>\n      <td>27900</td>\n      <td>No</td>\n      <td>No</td>\n      <td>No</td>\n      <td>NaN</td>\n      <td>{'TotalQuantity': '104', 'PreviousTotalQuantit...</td>\n      <td>NaN</td>\n      <td>NaN</td>\n    </tr>\n    <tr>\n      <th>BurdenCost</th>\n      <td>0581-0004</td>\n      <td>201704-0581-001</td>\n      <td>0581</td>\n      <td>Tobacco Report</td>\n      <td>The Tobacco Statistic Act of 1929 (7 U.S.C. 50...</td>\n      <td>Extension without change of a currently approv...</td>\n      <td>NaN</td>\n      <td>Active</td>\n      <td>NaN</td>\n      <td>Uncollected</td>\n      <td>Uncollected</td>\n      <td>27900</td>\n      <td>No</td>\n      <td>No</td>\n      <td>No</td>\n      <td>NaN</td>\n      <td>{'TotalAmount': '0', 'PreviousTotalAmount': '0'}</td>\n      <td>NaN</td>\n      <td>NaN</td>\n    </tr>\n    <tr>\n      <th>InformationCollection</th>\n      <td>0581-0004</td>\n      <td>201704-0581-001</td>\n      <td>0581</td>\n      <td>Tobacco Report</td>\n      <td>The Tobacco Statistic Act of 1929 (7 U.S.C. 50...</td>\n      <td>Extension without change of a currently approv...</td>\n      <td>NaN</td>\n      <td>Active</td>\n      <td>NaN</td>\n      <td>Uncollected</td>\n      <td>Uncollected</td>\n      <td>27900</td>\n      <td>No</td>\n      <td>No</td>\n      <td>No</td>\n      <td>NaN</td>\n      <td>NaN</td>\n      <td>[{'Title': 'Tobacco Report', 'CFRCitations': {...</td>\n      <td>NaN</td>\n    </tr>\n    <tr>\n      <th>ConcludedDate</th>\n      <td>0581-0004</td>\n      <td>201704-0581-001</td>\n      <td>0581</td>\n      <td>Tobacco Report</td>\n      <td>The Tobacco Statistic Act of 1929 (7 U.S.C. 50...</td>\n      <td>Extension without change of a currently approv...</td>\n      <td>NaN</td>\n      <td>Active</td>\n      <td>NaN</td>\n      <td>Uncollected</td>\n      <td>Uncollected</td>\n      <td>27900</td>\n      <td>No</td>\n      <td>No</td>\n      <td>No</td>\n      <td>NaN</td>\n      <td>NaN</td>\n      <td>NaN</td>\n      <td>{'Date': '2017-06-16-04:00', 'Time': '03:40:21...</td>\n    </tr>\n  </tbody>\n</table>\n</div>"
     },
     "metadata": {},
     "execution_count": 5
    }
   ],
   "source": []
  },
  {
   "cell_type": "code",
   "execution_count": null,
   "metadata": {},
   "outputs": [],
   "source": []
  },
  {
   "cell_type": "code",
   "execution_count": 11,
   "metadata": {},
   "outputs": [],
   "source": [
    "# this code fetches the server status for each url.  Be careful though because this will take about 5 hours to run.  \n",
    "#TODO: multiprocess with dask\n",
    "url_list = get_url_list(root)\n",
    "df_url = pd.DataFrame(url_list,columns=['url'])\n",
    "df_url.drop_duplicates(inplace=True)\n",
    "df['404'] = df['url'].apply(lambda x: get_404(x))"
   ]
  },
  {
   "cell_type": "code",
   "execution_count": 6,
   "metadata": {},
   "outputs": [
    {
     "output_type": "execute_result",
     "data": {
      "text/plain": "OrderedDict([('CFRCitation',\n              OrderedDict([('CFRCitation',\n                            OrderedDict([('CFRTitle', '7'),\n                                         ('CFRPart', '30.60')]))]))])"
     },
     "metadata": {},
     "execution_count": 6
    }
   ],
   "source": [
    "rows = []\n",
    "# Example of dictionary item with nested keys of the same value\n",
    "#TODO: explore feature branch of xmltodict for potential fix\n",
    "xml_dict['InformationCollectionRequestList']['InformationCollectionRequest'][0]['InformationCollections']['InformationCollection'][0]['CFRCitations']\n"
   ]
  },
  {
   "cell_type": "code",
   "execution_count": null,
   "metadata": {},
   "outputs": [],
   "source": [
    "xml_dict['InformationCollectionRequestList']['InformationCollectionRequest'][21]['InformationCollections']['InformationCollection'][1]"
   ]
  },
  {
   "cell_type": "code",
   "execution_count": 32,
   "metadata": {},
   "outputs": [
    {
     "output_type": "execute_result",
     "data": {
      "text/plain": "{'Title': 'Background/Acceptance Statement (Producer and Handler Member/Alternate)',\n 'CFRCitations_CFRCitation': [OrderedDict([('CFRCitation',\n                OrderedDict([('CFRTitle', '7'),\n                             ('CFRPart', '930.58(c), 930.83, 930.70(b)')]))]),\n  OrderedDict([('CFRCitation',\n                OrderedDict([('CFRTitle', '7'),\n                             ('CFRPart', '930.50(a), 930.55(b)')]))]),\n  OrderedDict([('CFRCitation',\n                OrderedDict([('CFRTitle', '7'),\n                             ('CFRPart', '930.26, 930.23, 930.70')]))]),\n  OrderedDict([('CFRCitation',\n                OrderedDict([('CFRTitle', '7'),\n                             ('CFRPart', '930.59(b), 930.55(c)')]))])],\n 'StandardFormIndicator': 'No',\n 'ObligationCode': 'Mandatory',\n 'FEABusinessReferenceModule_LineOfBusiness_@Code': '105',\n 'FEABusinessReferenceModule_LineOfBusiness_#text': 'Economic Development',\n 'FEABusinessReferenceModule_Subfunction_@Code': '011',\n 'FEABusinessReferenceModule_Subfunction_#text': 'Business and Industry Development',\n 'Instruments_Instrument': [OrderedDict([('FormNumber', 'CIAB 3A'),\n               ('FormName', 'Report of Export Sales Activity'),\n               ('AvailableElectronically', 'No'),\n               ('ElectronicCapability', 'Printable Only'),\n               ('InstrumentDocument',\n                OrderedDict([('documentType', 'Form')]))]),\n  OrderedDict([('FormNumber', 'SC-9'),\n               ('FormName',\n                'Background/Acceptance Statement for Industry Members & Alternates'),\n               ('AvailableElectronically', 'No'),\n               ('ElectronicCapability', 'Paper Only'),\n               ('InstrumentDocument',\n                OrderedDict([('documentType', 'Form')]))]),\n  OrderedDict([('FormNumber', 'SC-8'),\n               ('FormName',\n                'Background/Acceptance Statement for Public Members & Alternates'),\n               ('AvailableElectronically', 'No'),\n               ('ElectronicCapability', 'Paper Only'),\n               ('InstrumentDocument',\n                OrderedDict([('documentType', 'Form')]))]),\n  OrderedDict([('FormNumber', 'CIAB Form 7'),\n               ('FormName',\n                'Handler Diversion Application for New Market or Product'),\n               ('AvailableElectronically', 'No'),\n               ('ElectronicCapability', 'Paper Only'),\n               ('InstrumentDocument',\n                OrderedDict([('documentType', 'Form and instruction')]))]),\n  OrderedDict([('FormNumber', 'CIAB 5 B'),\n               ('FormName', 'Inventory Location Report (Rev. 2016)'),\n               ('AvailableElectronically', 'No'),\n               ('ElectronicCapability', 'Printable Only'),\n               ('InstrumentDocument',\n                OrderedDict([('documentType', 'Form')]))]),\n  OrderedDict([('FormNumber', 'CIAB Form 3'),\n               ('FormName', 'Sales/Inventory Report'),\n               ('AvailableElectronically', 'No'),\n               ('ElectronicCapability', 'Printable Only'),\n               ('InstrumentDocument',\n                OrderedDict([('documentType', 'Form')]))]),\n  OrderedDict([('FormNumber', 'None'),\n               ('FormName', 'Producer List for Referendum'),\n               ('AvailableElectronically', 'No'),\n               ('ElectronicCapability', 'Printable Only'),\n               ('InstrumentDocument',\n                OrderedDict([('documentType', 'Form')]))]),\n  OrderedDict([('FormNumber', 'None'),\n               ('FormName',\n                'Memorandum of Agreement between Handlers Regarding Responsibilities for Tart Cherry Production'),\n               ('AvailableElectronically', 'No'),\n               ('ElectronicCapability', 'Printable Only'),\n               ('InstrumentDocument',\n                OrderedDict([('documentType', 'Form')]))]),\n  OrderedDict([('FormNumber', 'CIAB Form #1'),\n               ('FormName', 'Weekly Raw Product Report'),\n               ('AvailableElectronically', 'No'),\n               ('ElectronicCapability', 'Printable Only'),\n               ('InstrumentDocument',\n                OrderedDict([('documentType', 'Form')]))]),\n  OrderedDict([('FormNumber', 'CIAB Form #5A'),\n               ('FormName', 'Inventory Reserve Summary'),\n               ('AvailableElectronically', 'No'),\n               ('ElectronicCapability', 'Printable Only'),\n               ('InstrumentDocument',\n                OrderedDict([('documentType', 'Form')]))]),\n  OrderedDict([('FormNumber', 'CIAB Form #2'),\n               ('FormName', 'Cherries Acquired from Producers'),\n               ('AvailableElectronically', 'No'),\n               ('ElectronicCapability', 'Printable Only'),\n               ('InstrumentDocument',\n                OrderedDict([('documentType', 'Form')]))]),\n  OrderedDict([('FormNumber', 'CIAB Form 4'),\n               ('FormName', 'Handler Reserve Plan & Final Pack Rept.'),\n               ('AvailableElectronically', 'No'),\n               ('ElectronicCapability', 'Printable Only'),\n               ('InstrumentDocument',\n                OrderedDict([('documentType', 'Form and instruction')]))])],\n 'AffectedPublicCode_PublicCode': 'Private Sector',\n 'NumberResponses_AnnualQuantity': '2122',\n 'BurdenHour_TotalQuantity': '498',\n 'BurdenHour_BurdenHourPerResponse_ReportingFrequencies_ReportingFrequency': 'Annually',\n 'BurdenCost_TotalAmount': '0'}"
     },
     "metadata": {},
     "execution_count": 32
    }
   ],
   "source": [
    "#example of a problem converting nested dictionary with same keys, the xmltodict library stores them as a list and make flattening a problem\n",
    "#TODO: recursivley rename keys based on parents\n",
    "convert_flatten(xml_dict['InformationCollectionRequestList']['InformationCollectionRequest'][21]['InformationCollections']['InformationCollection'][1])"
   ]
  },
  {
   "cell_type": "code",
   "execution_count": 16,
   "metadata": {},
   "outputs": [
    {
     "output_type": "execute_result",
     "data": {
      "text/plain": "2"
     },
     "metadata": {},
     "execution_count": 16
    }
   ],
   "source": [
    "len(xml_dict['InformationCollectionRequestList']['InformationCollectionRequest'][0]['InformationCollections']['InformationCollection'])"
   ]
  },
  {
   "cell_type": "code",
   "execution_count": 17,
   "metadata": {},
   "outputs": [
    {
     "output_type": "execute_result",
     "data": {
      "text/plain": "collections.OrderedDict"
     },
     "metadata": {},
     "execution_count": 17
    }
   ],
   "source": [
    "type(xml_dict['InformationCollectionRequestList']['InformationCollectionRequest'][1]['InformationCollections']['InformationCollection'])"
   ]
  },
  {
   "cell_type": "code",
   "execution_count": 29,
   "metadata": {
    "tags": [
     "outputPrepend",
     "outputPrepend",
     "outputPrepend",
     "outputPrepend",
     "outputPrepend",
     "outputPrepend"
    ]
   },
   "outputs": [],
   "source": [
    "#iterates over each ICR element and extracts relevant data.... work in progress\n",
    "#unfortunately the indexing convetion used in necessary based off of the output from xmltodict\n",
    "new_list_2 = []\n",
    "for t in range(len(xml_dict['InformationCollectionRequestList']['InformationCollectionRequest'])):\n",
    "    try:\n",
    "        if type(xml_dict['InformationCollectionRequestList']['InformationCollectionRequest'][t]['InformationCollections']['InformationCollection']) == list:\n",
    "\n",
    "            for x in range(len(xml_dict['InformationCollectionRequestList']['InformationCollectionRequest'][t]['InformationCollections']['InformationCollection'])):\n",
    "                temp_dict_2 = {}\n",
    "\n",
    "                temp_dict_2['OMBControlNumber'] = xml_dict['InformationCollectionRequestList']['InformationCollectionRequest'][t].get('OMBControlNumber')\n",
    "                temp_dict_2['ICRReferenceNumber'] = xml_dict['InformationCollectionRequestList']['InformationCollectionRequest'][t].get('ICRReferenceNumber')\n",
    "                temp_dict_2['AgencyCode'] = xml_dict['InformationCollectionRequestList']['InformationCollectionRequest'][t].get('AgencyCode')\n",
    "                temp_dict_2['Title'] = xml_dict['InformationCollectionRequestList']['InformationCollectionRequest'][t].get('Title')\n",
    "                temp_dict_2['AnnualFederalCostAmount'] = xml_dict['InformationCollectionRequestList']['InformationCollectionRequest'][t].get('AnnualFederalCostAmount')\n",
    "                temp_dict_2.update(convert_flatten(xml_dict['InformationCollectionRequestList']['InformationCollectionRequest'][t]['InformationCollections']['InformationCollection'][x]))\n",
    "                new_list_2.append(temp_dict_2)\n",
    "                #temp_dict_2.clear()\n",
    "        else:\n",
    "            temp_dict_2 = {}\n",
    "\n",
    "            temp_dict_2['OMBControlNumber'] = xml_dict['InformationCollectionRequestList']['InformationCollectionRequest'][t].get('OMBControlNumber')\n",
    "            temp_dict_2['ICRReferenceNumber'] = xml_dict['InformationCollectionRequestList']['InformationCollectionRequest'][t].get('ICRReferenceNumber')\n",
    "            temp_dict_2['AgencyCode'] = xml_dict['InformationCollectionRequestList']['InformationCollectionRequest'][t].get('AgencyCode')\n",
    "            temp_dict_2['Title'] = xml_dict['InformationCollectionRequestList']['InformationCollectionRequest'][t].get('Title')\n",
    "            temp_dict_2['AnnualFederalCostAmount'] = xml_dict['InformationCollectionRequestList']['InformationCollectionRequest'][t].get('AnnualFederalCostAmount')\n",
    "\n",
    "            temp_dict_2.update(convert_flatten(xml_dict['InformationCollectionRequestList']['InformationCollectionRequest'][t]['InformationCollections']['InformationCollection']))\n",
    "\n",
    "            new_list_2.append(temp_dict_2)\n",
    "            temp_dict_2.clear()\n",
    "    except KeyError as e:\n",
    "        pass\n",
    "    "
   ]
  },
  {
   "cell_type": "code",
   "execution_count": 17,
   "metadata": {},
   "outputs": [
    {
     "output_type": "execute_result",
     "data": {
      "text/plain": "   OMBControlNumber ICRReferenceNumber AgencyCode  \\\n12        0581-0093    201808-0581-002       0581   \n13        0581-0093    201808-0581-002       0581   \n\n                                                Title AnnualFederalCostAmount  \\\n12  National Research, Promotion, and Consumer Inf...                       0   \n13  National Research, Promotion & Consumer Inform...                       0   \n\n   CFRCitations_CFRCitation_CFRCitation_CFRTitle  \\\n12                                           NaN   \n13                                           NaN   \n\n   CFRCitations_CFRCitation_CFRCitation_CFRPart StandardFormIndicator  \\\n12                                          NaN                    No   \n13                                          NaN                    No   \n\n   ObligationCode FEABusinessReferenceModule_LineOfBusiness_@Code  ...  \\\n12      Mandatory                                             105  ...   \n13      Voluntary                                             105  ...   \n\n   Instruments_Instrument_ElectronicCapability  \\\n12                                         NaN   \n13                                         NaN   \n\n   Instruments_Instrument_InstrumentDocument_documentType  \\\n12                                                NaN       \n13                                                NaN       \n\n   AffectedPublicCode_PublicCode NumberResponses_AnnualQuantity  \\\n12                Private Sector                         166932   \n13                Private Sector                         273586   \n\n   BurdenHour_TotalQuantity  \\\n12                   138567   \n13                    12359   \n\n   BurdenHour_BurdenHourPerResponse_ReportingFrequencies_ReportingFrequency  \\\n12  [Monthly, On occasion, Quarterly, Weekly, Annu...                         \n13             [Monthly, Quarterly, Weekly, Annually]                         \n\n   BurdenCost_TotalAmount                           CFRCitations_CFRCitation  \\\n12                      0  [{'CFRCitation': {'CFRTitle': '7', 'CFRPart': ...   \n13                      0  [{'CFRCitation': {'CFRTitle': '7', 'CFRPart': ...   \n\n                               Instruments_Instrument  \\\n12  [{'FormNumber': 'WAT-FHR', 'FormName': 'Waterm...   \n13  [{'FormNumber': 'CN-100', 'FormName': 'Cotton ...   \n\n   BurdenHour_BurdenHourPerResponse_ReportingFrequencies  \n12                                                NaN     \n13                                                NaN     \n\n[2 rows x 28 columns]",
      "text/html": "<div>\n<style scoped>\n    .dataframe tbody tr th:only-of-type {\n        vertical-align: middle;\n    }\n\n    .dataframe tbody tr th {\n        vertical-align: top;\n    }\n\n    .dataframe thead th {\n        text-align: right;\n    }\n</style>\n<table border=\"1\" class=\"dataframe\">\n  <thead>\n    <tr style=\"text-align: right;\">\n      <th></th>\n      <th>OMBControlNumber</th>\n      <th>ICRReferenceNumber</th>\n      <th>AgencyCode</th>\n      <th>Title</th>\n      <th>AnnualFederalCostAmount</th>\n      <th>CFRCitations_CFRCitation_CFRCitation_CFRTitle</th>\n      <th>CFRCitations_CFRCitation_CFRCitation_CFRPart</th>\n      <th>StandardFormIndicator</th>\n      <th>ObligationCode</th>\n      <th>FEABusinessReferenceModule_LineOfBusiness_@Code</th>\n      <th>...</th>\n      <th>Instruments_Instrument_ElectronicCapability</th>\n      <th>Instruments_Instrument_InstrumentDocument_documentType</th>\n      <th>AffectedPublicCode_PublicCode</th>\n      <th>NumberResponses_AnnualQuantity</th>\n      <th>BurdenHour_TotalQuantity</th>\n      <th>BurdenHour_BurdenHourPerResponse_ReportingFrequencies_ReportingFrequency</th>\n      <th>BurdenCost_TotalAmount</th>\n      <th>CFRCitations_CFRCitation</th>\n      <th>Instruments_Instrument</th>\n      <th>BurdenHour_BurdenHourPerResponse_ReportingFrequencies</th>\n    </tr>\n  </thead>\n  <tbody>\n    <tr>\n      <th>12</th>\n      <td>0581-0093</td>\n      <td>201808-0581-002</td>\n      <td>0581</td>\n      <td>National Research, Promotion, and Consumer Inf...</td>\n      <td>0</td>\n      <td>NaN</td>\n      <td>NaN</td>\n      <td>No</td>\n      <td>Mandatory</td>\n      <td>105</td>\n      <td>...</td>\n      <td>NaN</td>\n      <td>NaN</td>\n      <td>Private Sector</td>\n      <td>166932</td>\n      <td>138567</td>\n      <td>[Monthly, On occasion, Quarterly, Weekly, Annu...</td>\n      <td>0</td>\n      <td>[{'CFRCitation': {'CFRTitle': '7', 'CFRPart': ...</td>\n      <td>[{'FormNumber': 'WAT-FHR', 'FormName': 'Waterm...</td>\n      <td>NaN</td>\n    </tr>\n    <tr>\n      <th>13</th>\n      <td>0581-0093</td>\n      <td>201808-0581-002</td>\n      <td>0581</td>\n      <td>National Research, Promotion &amp; Consumer Inform...</td>\n      <td>0</td>\n      <td>NaN</td>\n      <td>NaN</td>\n      <td>No</td>\n      <td>Voluntary</td>\n      <td>105</td>\n      <td>...</td>\n      <td>NaN</td>\n      <td>NaN</td>\n      <td>Private Sector</td>\n      <td>273586</td>\n      <td>12359</td>\n      <td>[Monthly, Quarterly, Weekly, Annually]</td>\n      <td>0</td>\n      <td>[{'CFRCitation': {'CFRTitle': '7', 'CFRPart': ...</td>\n      <td>[{'FormNumber': 'CN-100', 'FormName': 'Cotton ...</td>\n      <td>NaN</td>\n    </tr>\n  </tbody>\n</table>\n<p>2 rows × 28 columns</p>\n</div>"
     },
     "metadata": {},
     "execution_count": 17
    }
   ],
   "source": [
    "#example of a flat file. Each record refers to an \"informationcollection\" element in the xml source file\n",
    "new_df = pd.DataFrame(new_list_2)\n",
    "new_df.dropna(subset=['OMBControlNumber','NumberResponses_AnnualQuantity','BurdenHour_TotalQuantity'],inplace=True)\n",
    "new_df[new_df['OMBControlNumber']=='0581-0093']"
   ]
  },
  {
   "cell_type": "code",
   "execution_count": 26,
   "metadata": {},
   "outputs": [],
   "source": [
    "new_df.to_csv('example_flat_file.csv')"
   ]
  },
  {
   "cell_type": "code",
   "execution_count": 17,
   "metadata": {},
   "outputs": [
    {
     "output_type": "execute_result",
     "data": {
      "text/plain": "Index(['OMBControlNumber', 'ICRReferenceNumber', 'AgencyCode', 'Title',\n       'AnnualFederalCostAmount',\n       'CFRCitations_CFRCitation_CFRCitation_CFRTitle',\n       'CFRCitations_CFRCitation_CFRCitation_CFRPart', 'StandardFormIndicator',\n       'ObligationCode', 'FEABusinessReferenceModule_LineOfBusiness_@Code',\n       'FEABusinessReferenceModule_LineOfBusiness_#text',\n       'FEABusinessReferenceModule_Subfunction_@Code',\n       'FEABusinessReferenceModule_Subfunction_#text',\n       'Instruments_Instrument_FormNumber', 'Instruments_Instrument_FormName',\n       'Instruments_Instrument_URL',\n       'Instruments_Instrument_AvailableElectronically',\n       'Instruments_Instrument_CanSubmittedElectronically',\n       'Instruments_Instrument_ElectronicCapability',\n       'Instruments_Instrument_InstrumentDocument_documentType',\n       'AffectedPublicCode_PublicCode', 'NumberResponses_AnnualQuantity',\n       'BurdenHour_TotalQuantity',\n       'BurdenHour_BurdenHourPerResponse_ReportingFrequencies_ReportingFrequency',\n       'BurdenCost_TotalAmount', 'CFRCitations_CFRCitation',\n       'Instruments_Instrument',\n       'BurdenHour_BurdenHourPerResponse_ReportingFrequencies'],\n      dtype='object')"
     },
     "metadata": {},
     "execution_count": 17
    }
   ],
   "source": [
    "new_df.columns"
   ]
  },
  {
   "cell_type": "code",
   "execution_count": 19,
   "metadata": {},
   "outputs": [],
   "source": [
    "new_df[['AgencyCode','BurdenHour_TotalQuantity','AnnualFederalCostAmount','NumberResponses_AnnualQuantity','BurdenCost_TotalAmount']] = new_df[['AgencyCode','BurdenHour_TotalQuantity','AnnualFederalCostAmount','NumberResponses_AnnualQuantity','BurdenCost_TotalAmount']].apply(pd.to_numeric)"
   ]
  },
  {
   "cell_type": "code",
   "execution_count": 20,
   "metadata": {},
   "outputs": [
    {
     "output_type": "execute_result",
     "data": {
      "text/plain": "OMBControlNumber                                                             object\nICRReferenceNumber                                                           object\nAgencyCode                                                                    int64\nTitle                                                                        object\nAnnualFederalCostAmount                                                       int64\nCFRCitations_CFRCitation_CFRCitation_CFRTitle                                object\nCFRCitations_CFRCitation_CFRCitation_CFRPart                                 object\nStandardFormIndicator                                                        object\nObligationCode                                                               object\nFEABusinessReferenceModule_LineOfBusiness_@Code                              object\nFEABusinessReferenceModule_LineOfBusiness_#text                              object\nFEABusinessReferenceModule_Subfunction_@Code                                 object\nFEABusinessReferenceModule_Subfunction_#text                                 object\nInstruments_Instrument_FormNumber                                            object\nInstruments_Instrument_FormName                                              object\nInstruments_Instrument_URL                                                   object\nInstruments_Instrument_AvailableElectronically                               object\nInstruments_Instrument_CanSubmittedElectronically                            object\nInstruments_Instrument_ElectronicCapability                                  object\nInstruments_Instrument_InstrumentDocument_documentType                       object\nAffectedPublicCode_PublicCode                                                object\nNumberResponses_AnnualQuantity                                                int64\nBurdenHour_TotalQuantity                                                      int64\nBurdenHour_BurdenHourPerResponse_ReportingFrequencies_ReportingFrequency     object\nBurdenCost_TotalAmount                                                        int64\nCFRCitations_CFRCitation                                                     object\nInstruments_Instrument                                                       object\nBurdenHour_BurdenHourPerResponse_ReportingFrequencies                       float64\ndtype: object"
     },
     "metadata": {},
     "execution_count": 20
    }
   ],
   "source": [
    "new_df.dtypes"
   ]
  },
  {
   "cell_type": "code",
   "execution_count": 21,
   "metadata": {},
   "outputs": [
    {
     "output_type": "execute_result",
     "data": {
      "text/plain": "            AnnualFederalCostAmount\nAgencyCode                         \n607                    2.459029e+09\n1651                   2.318412e+08\n1615                   9.172434e+07\n960                    4.186988e+07\n1220                   2.668200e+07\n...                             ...\n1870                   0.000000e+00\n1110                   0.000000e+00\n1210                   0.000000e+00\n3045                   0.000000e+00\n1557                   0.000000e+00\n\n[182 rows x 1 columns]",
      "text/html": "<div>\n<style scoped>\n    .dataframe tbody tr th:only-of-type {\n        vertical-align: middle;\n    }\n\n    .dataframe tbody tr th {\n        vertical-align: top;\n    }\n\n    .dataframe thead th {\n        text-align: right;\n    }\n</style>\n<table border=\"1\" class=\"dataframe\">\n  <thead>\n    <tr style=\"text-align: right;\">\n      <th></th>\n      <th>AnnualFederalCostAmount</th>\n    </tr>\n    <tr>\n      <th>AgencyCode</th>\n      <th></th>\n    </tr>\n  </thead>\n  <tbody>\n    <tr>\n      <th>607</th>\n      <td>2.459029e+09</td>\n    </tr>\n    <tr>\n      <th>1651</th>\n      <td>2.318412e+08</td>\n    </tr>\n    <tr>\n      <th>1615</th>\n      <td>9.172434e+07</td>\n    </tr>\n    <tr>\n      <th>960</th>\n      <td>4.186988e+07</td>\n    </tr>\n    <tr>\n      <th>1220</th>\n      <td>2.668200e+07</td>\n    </tr>\n    <tr>\n      <th>...</th>\n      <td>...</td>\n    </tr>\n    <tr>\n      <th>1870</th>\n      <td>0.000000e+00</td>\n    </tr>\n    <tr>\n      <th>1110</th>\n      <td>0.000000e+00</td>\n    </tr>\n    <tr>\n      <th>1210</th>\n      <td>0.000000e+00</td>\n    </tr>\n    <tr>\n      <th>3045</th>\n      <td>0.000000e+00</td>\n    </tr>\n    <tr>\n      <th>1557</th>\n      <td>0.000000e+00</td>\n    </tr>\n  </tbody>\n</table>\n<p>182 rows × 1 columns</p>\n</div>"
     },
     "metadata": {},
     "execution_count": 21
    }
   ],
   "source": [
    "gp = pd.DataFrame(new_df.groupby('AgencyCode',sort=False)['AnnualFederalCostAmount'].mean())\n",
    "gp.sort_values(by=['AnnualFederalCostAmount'], ascending=False )"
   ]
  },
  {
   "cell_type": "code",
   "execution_count": null,
   "metadata": {},
   "outputs": [],
   "source": [
    "#Below cells are quick analysis based on data available in flat file"
   ]
  },
  {
   "cell_type": "code",
   "execution_count": 37,
   "metadata": {},
   "outputs": [
    {
     "output_type": "execute_result",
     "data": {
      "text/plain": "            NumberResponses_AnnualQuantity\nAgencyCode                                \n3084                          8.711117e+07\n3235                          5.483506e+07\n945                           2.553700e+07\n1250                          2.090750e+07\n1210                          1.311798e+07\n...                                    ...\n2133                          4.625000e+01\n1860                          1.500000e+01\n1870                          1.250000e+01\n2510                          5.500000e+00\n2020                          4.500000e+00\n\n[182 rows x 1 columns]",
      "text/html": "<div>\n<style scoped>\n    .dataframe tbody tr th:only-of-type {\n        vertical-align: middle;\n    }\n\n    .dataframe tbody tr th {\n        vertical-align: top;\n    }\n\n    .dataframe thead th {\n        text-align: right;\n    }\n</style>\n<table border=\"1\" class=\"dataframe\">\n  <thead>\n    <tr style=\"text-align: right;\">\n      <th></th>\n      <th>NumberResponses_AnnualQuantity</th>\n    </tr>\n    <tr>\n      <th>AgencyCode</th>\n      <th></th>\n    </tr>\n  </thead>\n  <tbody>\n    <tr>\n      <th>3084</th>\n      <td>8.711117e+07</td>\n    </tr>\n    <tr>\n      <th>3235</th>\n      <td>5.483506e+07</td>\n    </tr>\n    <tr>\n      <th>945</th>\n      <td>2.553700e+07</td>\n    </tr>\n    <tr>\n      <th>1250</th>\n      <td>2.090750e+07</td>\n    </tr>\n    <tr>\n      <th>1210</th>\n      <td>1.311798e+07</td>\n    </tr>\n    <tr>\n      <th>...</th>\n      <td>...</td>\n    </tr>\n    <tr>\n      <th>2133</th>\n      <td>4.625000e+01</td>\n    </tr>\n    <tr>\n      <th>1860</th>\n      <td>1.500000e+01</td>\n    </tr>\n    <tr>\n      <th>1870</th>\n      <td>1.250000e+01</td>\n    </tr>\n    <tr>\n      <th>2510</th>\n      <td>5.500000e+00</td>\n    </tr>\n    <tr>\n      <th>2020</th>\n      <td>4.500000e+00</td>\n    </tr>\n  </tbody>\n</table>\n<p>182 rows × 1 columns</p>\n</div>"
     },
     "metadata": {},
     "execution_count": 37
    }
   ],
   "source": [
    "gp1 = pd.DataFrame(new_df.groupby('AgencyCode',sort=False)['NumberResponses_AnnualQuantity'].mean())\n",
    "gp1.sort_values(by=['NumberResponses_AnnualQuantity'], ascending=False )"
   ]
  },
  {
   "cell_type": "code",
   "execution_count": 39,
   "metadata": {},
   "outputs": [
    {
     "output_type": "execute_result",
     "data": {
      "text/plain": "            BurdenCost_TotalAmount\nAgencyCode                        \n563                   1.261999e+08\n2126                  2.415511e+07\n1615                  1.544195e+07\n3235                  1.476473e+07\n2040                  1.380519e+07\n...                            ...\n935                   0.000000e+00\n985                   0.000000e+00\n1905                  0.000000e+00\n1894                  0.000000e+00\n1040                  0.000000e+00\n\n[182 rows x 1 columns]",
      "text/html": "<div>\n<style scoped>\n    .dataframe tbody tr th:only-of-type {\n        vertical-align: middle;\n    }\n\n    .dataframe tbody tr th {\n        vertical-align: top;\n    }\n\n    .dataframe thead th {\n        text-align: right;\n    }\n</style>\n<table border=\"1\" class=\"dataframe\">\n  <thead>\n    <tr style=\"text-align: right;\">\n      <th></th>\n      <th>BurdenCost_TotalAmount</th>\n    </tr>\n    <tr>\n      <th>AgencyCode</th>\n      <th></th>\n    </tr>\n  </thead>\n  <tbody>\n    <tr>\n      <th>563</th>\n      <td>1.261999e+08</td>\n    </tr>\n    <tr>\n      <th>2126</th>\n      <td>2.415511e+07</td>\n    </tr>\n    <tr>\n      <th>1615</th>\n      <td>1.544195e+07</td>\n    </tr>\n    <tr>\n      <th>3235</th>\n      <td>1.476473e+07</td>\n    </tr>\n    <tr>\n      <th>2040</th>\n      <td>1.380519e+07</td>\n    </tr>\n    <tr>\n      <th>...</th>\n      <td>...</td>\n    </tr>\n    <tr>\n      <th>935</th>\n      <td>0.000000e+00</td>\n    </tr>\n    <tr>\n      <th>985</th>\n      <td>0.000000e+00</td>\n    </tr>\n    <tr>\n      <th>1905</th>\n      <td>0.000000e+00</td>\n    </tr>\n    <tr>\n      <th>1894</th>\n      <td>0.000000e+00</td>\n    </tr>\n    <tr>\n      <th>1040</th>\n      <td>0.000000e+00</td>\n    </tr>\n  </tbody>\n</table>\n<p>182 rows × 1 columns</p>\n</div>"
     },
     "metadata": {},
     "execution_count": 39
    }
   ],
   "source": [
    "gp1 = pd.DataFrame(new_df.groupby('AgencyCode',sort=False)['BurdenCost_TotalAmount'].mean())\n",
    "gp1.sort_values(by=['BurdenCost_TotalAmount'], ascending=False )"
   ]
  },
  {
   "cell_type": "code",
   "execution_count": null,
   "metadata": {},
   "outputs": [],
   "source": [
    "gp1 = pd.DataFrame(new_df.groupby('AgencyCode',sort=False)['BurdenHour_TotalQuantity'].mean())\n",
    "gp1.sort_values(by=['BurdenHour_TotalQuantity'], ascending=False )"
   ]
  }
 ],
 "metadata": {
  "language_info": {
   "name": "python",
   "codemirror_mode": {
    "name": "ipython",
    "version": 3
   },
   "version": "3.6.6-final"
  },
  "orig_nbformat": 2,
  "file_extension": ".py",
  "mimetype": "text/x-python",
  "name": "python",
  "npconvert_exporter": "python",
  "pygments_lexer": "ipython3",
  "version": 3,
  "kernelspec": {
   "name": "python36664bitvenvvirtualenv3cb4ec72f3024435af1c9600ebbdae1e",
   "display_name": "Python 3.6.6 64-bit ('venv': virtualenv)"
  }
 },
 "nbformat": 4,
 "nbformat_minor": 2
}